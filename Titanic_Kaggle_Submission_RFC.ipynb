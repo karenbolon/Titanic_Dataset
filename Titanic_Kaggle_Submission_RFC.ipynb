{
 "cells": [
  {
   "cell_type": "markdown",
   "metadata": {},
   "source": [
    "# Goal\n",
    "The goal of this project: Train a model that is as accurate as possible to predict the survival rates of passengers."
   ]
  },
  {
   "cell_type": "code",
   "execution_count": 1,
   "metadata": {
    "_cell_guid": "b1076dfc-b9ad-4769-8c92-a6c4dae69d19",
    "_uuid": "8f2839f25d086af736a60e9eeb907d3b93b6e0e5",
    "execution": {
     "iopub.execute_input": "2022-10-14T08:53:18.450996Z",
     "iopub.status.busy": "2022-10-14T08:53:18.450292Z",
     "iopub.status.idle": "2022-10-14T08:53:18.474244Z",
     "shell.execute_reply": "2022-10-14T08:53:18.472861Z",
     "shell.execute_reply.started": "2022-10-14T08:53:18.450848Z"
    }
   },
   "outputs": [
    {
     "name": "stdout",
     "output_type": "stream",
     "text": [
      "/kaggle/input/titanic/train.csv\n",
      "/kaggle/input/titanic/test.csv\n",
      "/kaggle/input/titanic/gender_submission.csv\n"
     ]
    }
   ],
   "source": [
    "# This Python 3 environment comes with many helpful analytics libraries installed\n",
    "# It is defined by the kaggle/python Docker image: https://github.com/kaggle/docker-python\n",
    "# For example, here's several helpful packages to load\n",
    "\n",
    "import numpy as np # linear algebra\n",
    "import pandas as pd # data processing, CSV file I/O (e.g. pd.read_csv)\n",
    "\n",
    "import os\n",
    "for dirname, _, filenames in os.walk('/kaggle/input'):\n",
    "    for filename in filenames:\n",
    "        print(os.path.join(dirname, filename))"
   ]
  },
  {
   "cell_type": "code",
   "execution_count": 2,
   "metadata": {
    "execution": {
     "iopub.execute_input": "2022-10-14T08:53:18.477478Z",
     "iopub.status.busy": "2022-10-14T08:53:18.476727Z",
     "iopub.status.idle": "2022-10-14T08:53:19.351258Z",
     "shell.execute_reply": "2022-10-14T08:53:19.350310Z",
     "shell.execute_reply.started": "2022-10-14T08:53:18.477386Z"
    }
   },
   "outputs": [],
   "source": [
    "import pandas as pd\n",
    "import seaborn as sns\n",
    "import numpy as np\n",
    "import matplotlib.pyplot as plt\n",
    "%matplotlib inline\n",
    "\n",
    "#from sklearn.model_selection import train_test_split\n",
    "#from sklearn.linear_model import LogisticRegression\n",
    "from sklearn.model_selection import cross_val_score \n",
    "from sklearn.ensemble import RandomForestClassifier \n",
    "from sklearn.metrics import precision_score, recall_score, f1_score\n",
    "from sklearn.metrics import confusion_matrix, ConfusionMatrixDisplay\n",
    "from sklearn.pipeline import make_pipeline\n",
    "#from sklearn.preprocessing import StandardScaler\n",
    "#from sklearn.svm import SVC"
   ]
  },
  {
   "cell_type": "code",
   "execution_count": 3,
   "metadata": {
    "execution": {
     "iopub.execute_input": "2022-10-14T08:53:19.353164Z",
     "iopub.status.busy": "2022-10-14T08:53:19.352869Z",
     "iopub.status.idle": "2022-10-14T08:53:19.367913Z",
     "shell.execute_reply": "2022-10-14T08:53:19.367224Z",
     "shell.execute_reply.started": "2022-10-14T08:53:19.353126Z"
    }
   },
   "outputs": [],
   "source": [
    "#import train and test datasets\n",
    "train_data = pd.read_csv(\"/kaggle/input/titanic/train.csv\")"
   ]
  },
  {
   "cell_type": "markdown",
   "metadata": {},
   "source": [
    "**Quick analysis:**\n",
    "\n",
    "The training dataset includes information regarding:\n",
    "-  passenger ID, \n",
    "-  survived: Survived (0 = No; 1 = Yes),\n",
    "-  pclass: Passenger Class (1 = 1st; 2 = 2nd; 3 = 3rd)\n",
    "-  name: Name\n",
    "-  sex: Sex\n",
    "-  age: Age\n",
    "-  sibsp: Number of Siblings/Spouses Aboard\n",
    "-  parch: Number of Parents/Children Aboard\n",
    "-  ticket: Ticket Number\n",
    "-  fare: Passenger Fare\n",
    "-  cabin: Cabin\n",
    "-  embarked: Port of Embarkation (C = Cherbourg; Q = Queenstown; S = Southampton)\n",
    "\n",
    "I believe that Class, sex, age, siblings/spouse, cabin and where they embarked will affect the survival rates for these reasons:\n",
    "\n",
    "-  class: better access to information and lifeboats,\n",
    "-  sex: more females survived than males (bias),\n",
    "-  age: as the younger you are the harder you will struggle to survive and also be placed on a lifeboat,\n",
    "-  siblings/spouse: those that travel together would look after each other, and\n",
    "-  cabin: perhaps the location affects access to lifeboats\n",
    "-  embarkation: possible socio-economic reasons or length of trip depends what cabin is purchased?\n",
    "\n",
    "I will see through Exploratory Data Analysis (EDA) whether my initial estimates hold any merit or if other correlations emerge."
   ]
  },
  {
   "cell_type": "code",
   "execution_count": 4,
   "metadata": {
    "execution": {
     "iopub.execute_input": "2022-10-14T08:53:19.370582Z",
     "iopub.status.busy": "2022-10-14T08:53:19.369769Z",
     "iopub.status.idle": "2022-10-14T08:53:19.375181Z",
     "shell.execute_reply": "2022-10-14T08:53:19.374366Z",
     "shell.execute_reply.started": "2022-10-14T08:53:19.370541Z"
    }
   },
   "outputs": [],
   "source": [
    "train_data.columns = train_data.columns.str.lower()"
   ]
  },
  {
   "cell_type": "markdown",
   "metadata": {
    "execution": {
     "iopub.execute_input": "2022-10-13T15:24:59.166993Z",
     "iopub.status.busy": "2022-10-13T15:24:59.166623Z",
     "iopub.status.idle": "2022-10-13T15:24:59.172491Z",
     "shell.execute_reply": "2022-10-13T15:24:59.171481Z",
     "shell.execute_reply.started": "2022-10-13T15:24:59.166955Z"
    }
   },
   "source": [
    "# **Exploratory Analysis**"
   ]
  },
  {
   "cell_type": "code",
   "execution_count": 5,
   "metadata": {
    "execution": {
     "iopub.execute_input": "2022-10-14T08:53:19.376420Z",
     "iopub.status.busy": "2022-10-14T08:53:19.376210Z",
     "iopub.status.idle": "2022-10-14T08:53:19.404163Z",
     "shell.execute_reply": "2022-10-14T08:53:19.403277Z",
     "shell.execute_reply.started": "2022-10-14T08:53:19.376394Z"
    }
   },
   "outputs": [
    {
     "data": {
      "text/html": [
       "<div>\n",
       "<style scoped>\n",
       "    .dataframe tbody tr th:only-of-type {\n",
       "        vertical-align: middle;\n",
       "    }\n",
       "\n",
       "    .dataframe tbody tr th {\n",
       "        vertical-align: top;\n",
       "    }\n",
       "\n",
       "    .dataframe thead th {\n",
       "        text-align: right;\n",
       "    }\n",
       "</style>\n",
       "<table border=\"1\" class=\"dataframe\">\n",
       "  <thead>\n",
       "    <tr style=\"text-align: right;\">\n",
       "      <th></th>\n",
       "      <th>passengerid</th>\n",
       "      <th>pclass</th>\n",
       "      <th>name</th>\n",
       "      <th>sex</th>\n",
       "      <th>age</th>\n",
       "      <th>sibsp</th>\n",
       "      <th>parch</th>\n",
       "      <th>ticket</th>\n",
       "      <th>fare</th>\n",
       "      <th>cabin</th>\n",
       "      <th>embarked</th>\n",
       "    </tr>\n",
       "    <tr>\n",
       "      <th>survived</th>\n",
       "      <th></th>\n",
       "      <th></th>\n",
       "      <th></th>\n",
       "      <th></th>\n",
       "      <th></th>\n",
       "      <th></th>\n",
       "      <th></th>\n",
       "      <th></th>\n",
       "      <th></th>\n",
       "      <th></th>\n",
       "      <th></th>\n",
       "    </tr>\n",
       "  </thead>\n",
       "  <tbody>\n",
       "    <tr>\n",
       "      <th>0</th>\n",
       "      <td>549</td>\n",
       "      <td>549</td>\n",
       "      <td>549</td>\n",
       "      <td>549</td>\n",
       "      <td>424</td>\n",
       "      <td>549</td>\n",
       "      <td>549</td>\n",
       "      <td>549</td>\n",
       "      <td>549</td>\n",
       "      <td>68</td>\n",
       "      <td>549</td>\n",
       "    </tr>\n",
       "    <tr>\n",
       "      <th>1</th>\n",
       "      <td>342</td>\n",
       "      <td>342</td>\n",
       "      <td>342</td>\n",
       "      <td>342</td>\n",
       "      <td>290</td>\n",
       "      <td>342</td>\n",
       "      <td>342</td>\n",
       "      <td>342</td>\n",
       "      <td>342</td>\n",
       "      <td>136</td>\n",
       "      <td>340</td>\n",
       "    </tr>\n",
       "  </tbody>\n",
       "</table>\n",
       "</div>"
      ],
      "text/plain": [
       "          passengerid  pclass  name  sex  age  sibsp  parch  ticket  fare  \\\n",
       "survived                                                                    \n",
       "0                 549     549   549  549  424    549    549     549   549   \n",
       "1                 342     342   342  342  290    342    342     342   342   \n",
       "\n",
       "          cabin  embarked  \n",
       "survived                   \n",
       "0            68       549  \n",
       "1           136       340  "
      ]
     },
     "execution_count": 5,
     "metadata": {},
     "output_type": "execute_result"
    }
   ],
   "source": [
    "survived=train_data.groupby('survived').count()\n",
    "survived"
   ]
  },
  {
   "cell_type": "code",
   "execution_count": 6,
   "metadata": {
    "execution": {
     "iopub.execute_input": "2022-10-14T08:53:19.405547Z",
     "iopub.status.busy": "2022-10-14T08:53:19.405321Z",
     "iopub.status.idle": "2022-10-14T08:53:19.636550Z",
     "shell.execute_reply": "2022-10-14T08:53:19.635703Z",
     "shell.execute_reply.started": "2022-10-14T08:53:19.405519Z"
    }
   },
   "outputs": [
    {
     "data": {
      "text/plain": [
       "Text(0.5, 0, 'Survived (0 = Dead,1 = Survived)')"
      ]
     },
     "execution_count": 6,
     "metadata": {},
     "output_type": "execute_result"
    },
    {
     "data": {
      "image/png": "[encoded data removed]",
      "text/plain": [
       "<Figure size 432x288 with 1 Axes>"
      ]
     },
     "metadata": {
      "needs_background": "light"
     },
     "output_type": "display_data"
    }
   ],
   "source": [
    "sns.countplot(data=train_data, x ='survived', hue = 'sex')\n",
    "plt.xlabel('Survived (0 = Dead,1 = Survived)' )"
   ]
  },
  {
   "cell_type": "code",
   "execution_count": 7,
   "metadata": {
    "execution": {
     "iopub.execute_input": "2022-10-14T08:53:19.639810Z",
     "iopub.status.busy": "2022-10-14T08:53:19.637967Z",
     "iopub.status.idle": "2022-10-14T08:53:19.885477Z",
     "shell.execute_reply": "2022-10-14T08:53:19.884550Z",
     "shell.execute_reply.started": "2022-10-14T08:53:19.639759Z"
    }
   },
   "outputs": [
    {
     "data": {
      "text/plain": [
       "Text(0.5, 0, 'Survived (0 = Dead,1 = Survived)')"
      ]
     },
     "execution_count": 7,
     "metadata": {},
     "output_type": "execute_result"
    },
    {
     "data": {
      "image/png": "[encoded data removed]",
      "text/plain": [
       "<Figure size 432x288 with 1 Axes>"
      ]
     },
     "metadata": {
      "needs_background": "light"
     },
     "output_type": "display_data"
    }
   ],
   "source": [
    "sns.countplot(x=\"survived\",\n",
    "              hue=\"pclass\",\n",
    "              data=train_data)\n",
    "plt.xlabel('Survived (0 = Dead,1 = Survived)' )"
   ]
  },
  {
   "cell_type": "code",
   "execution_count": 8,
   "metadata": {
    "execution": {
     "iopub.execute_input": "2022-10-14T08:53:19.887060Z",
     "iopub.status.busy": "2022-10-14T08:53:19.886792Z",
     "iopub.status.idle": "2022-10-14T08:53:19.904806Z",
     "shell.execute_reply": "2022-10-14T08:53:19.903704Z",
     "shell.execute_reply.started": "2022-10-14T08:53:19.887026Z"
    }
   },
   "outputs": [
    {
     "data": {
      "text/html": [
       "<div>\n",
       "<style scoped>\n",
       "    .dataframe tbody tr th:only-of-type {\n",
       "        vertical-align: middle;\n",
       "    }\n",
       "\n",
       "    .dataframe tbody tr th {\n",
       "        vertical-align: top;\n",
       "    }\n",
       "\n",
       "    .dataframe thead th {\n",
       "        text-align: right;\n",
       "    }\n",
       "</style>\n",
       "<table border=\"1\" class=\"dataframe\">\n",
       "  <thead>\n",
       "    <tr style=\"text-align: right;\">\n",
       "      <th></th>\n",
       "      <th>passengerid</th>\n",
       "      <th>survived</th>\n",
       "      <th>pclass</th>\n",
       "      <th>age</th>\n",
       "      <th>sibsp</th>\n",
       "      <th>parch</th>\n",
       "      <th>fare</th>\n",
       "    </tr>\n",
       "  </thead>\n",
       "  <tbody>\n",
       "    <tr>\n",
       "      <th>passengerid</th>\n",
       "      <td>1.000000</td>\n",
       "      <td>-0.005007</td>\n",
       "      <td>-0.035144</td>\n",
       "      <td>0.036847</td>\n",
       "      <td>-0.057527</td>\n",
       "      <td>-0.001652</td>\n",
       "      <td>0.012658</td>\n",
       "    </tr>\n",
       "    <tr>\n",
       "      <th>survived</th>\n",
       "      <td>-0.005007</td>\n",
       "      <td>1.000000</td>\n",
       "      <td>-0.338481</td>\n",
       "      <td>-0.077221</td>\n",
       "      <td>-0.035322</td>\n",
       "      <td>0.081629</td>\n",
       "      <td>0.257307</td>\n",
       "    </tr>\n",
       "    <tr>\n",
       "      <th>pclass</th>\n",
       "      <td>-0.035144</td>\n",
       "      <td>-0.338481</td>\n",
       "      <td>1.000000</td>\n",
       "      <td>-0.369226</td>\n",
       "      <td>0.083081</td>\n",
       "      <td>0.018443</td>\n",
       "      <td>-0.549500</td>\n",
       "    </tr>\n",
       "    <tr>\n",
       "      <th>age</th>\n",
       "      <td>0.036847</td>\n",
       "      <td>-0.077221</td>\n",
       "      <td>-0.369226</td>\n",
       "      <td>1.000000</td>\n",
       "      <td>-0.308247</td>\n",
       "      <td>-0.189119</td>\n",
       "      <td>0.096067</td>\n",
       "    </tr>\n",
       "    <tr>\n",
       "      <th>sibsp</th>\n",
       "      <td>-0.057527</td>\n",
       "      <td>-0.035322</td>\n",
       "      <td>0.083081</td>\n",
       "      <td>-0.308247</td>\n",
       "      <td>1.000000</td>\n",
       "      <td>0.414838</td>\n",
       "      <td>0.159651</td>\n",
       "    </tr>\n",
       "    <tr>\n",
       "      <th>parch</th>\n",
       "      <td>-0.001652</td>\n",
       "      <td>0.081629</td>\n",
       "      <td>0.018443</td>\n",
       "      <td>-0.189119</td>\n",
       "      <td>0.414838</td>\n",
       "      <td>1.000000</td>\n",
       "      <td>0.216225</td>\n",
       "    </tr>\n",
       "    <tr>\n",
       "      <th>fare</th>\n",
       "      <td>0.012658</td>\n",
       "      <td>0.257307</td>\n",
       "      <td>-0.549500</td>\n",
       "      <td>0.096067</td>\n",
       "      <td>0.159651</td>\n",
       "      <td>0.216225</td>\n",
       "      <td>1.000000</td>\n",
       "    </tr>\n",
       "  </tbody>\n",
       "</table>\n",
       "</div>"
      ],
      "text/plain": [
       "             passengerid  survived    pclass       age     sibsp     parch  \\\n",
       "passengerid     1.000000 -0.005007 -0.035144  0.036847 -0.057527 -0.001652   \n",
       "survived       -0.005007  1.000000 -0.338481 -0.077221 -0.035322  0.081629   \n",
       "pclass         -0.035144 -0.338481  1.000000 -0.369226  0.083081  0.018443   \n",
       "age             0.036847 -0.077221 -0.369226  1.000000 -0.308247 -0.189119   \n",
       "sibsp          -0.057527 -0.035322  0.083081 -0.308247  1.000000  0.414838   \n",
       "parch          -0.001652  0.081629  0.018443 -0.189119  0.414838  1.000000   \n",
       "fare            0.012658  0.257307 -0.549500  0.096067  0.159651  0.216225   \n",
       "\n",
       "                 fare  \n",
       "passengerid  0.012658  \n",
       "survived     0.257307  \n",
       "pclass      -0.549500  \n",
       "age          0.096067  \n",
       "sibsp        0.159651  \n",
       "parch        0.216225  \n",
       "fare         1.000000  "
      ]
     },
     "execution_count": 8,
     "metadata": {},
     "output_type": "execute_result"
    }
   ],
   "source": [
    "train_data.corr()"
   ]
  },
  {
   "cell_type": "code",
   "execution_count": 9,
   "metadata": {
    "execution": {
     "iopub.execute_input": "2022-10-14T08:53:19.906652Z",
     "iopub.status.busy": "2022-10-14T08:53:19.906275Z",
     "iopub.status.idle": "2022-10-14T08:53:20.398075Z",
     "shell.execute_reply": "2022-10-14T08:53:20.396963Z",
     "shell.execute_reply.started": "2022-10-14T08:53:19.906577Z"
    }
   },
   "outputs": [
    {
     "data": {
      "image/png": "[encoded data removed]",
      "text/plain": [
       "<Figure size 432x288 with 2 Axes>"
      ]
     },
     "metadata": {
      "needs_background": "light"
     },
     "output_type": "display_data"
    }
   ],
   "source": [
    "#This is a heatmap of the above information that makes it easier to see the features\n",
    "#that correlate with each other (if any).\n",
    "sns.heatmap(train_data.corr(), annot=True)\n",
    "plt.show()"
   ]
  },
  {
   "cell_type": "markdown",
   "metadata": {},
   "source": [
    "With the above heatmap, it is easy to see the features with the strongest positive correlations (orange) and the features with the strongest negative correlations (black).\n",
    "\n",
    "We can conclude that there are strong positive correlations between SibSp and Parch—and that makes sense because children often have siblings, and parents and children often travel together. We can also see that Pclass and Fare are strongly negatively correlated—that makes sense because 1st class tickets are more expensive than lower class tickets, meaning as class goes down (closer to 1) the fare goes up. Finally Age and Pclass are moderately negatively correlated—since richer people are generally older."
   ]
  },
  {
   "cell_type": "code",
   "execution_count": 10,
   "metadata": {
    "execution": {
     "iopub.execute_input": "2022-10-14T08:53:20.400719Z",
     "iopub.status.busy": "2022-10-14T08:53:20.399694Z",
     "iopub.status.idle": "2022-10-14T08:53:20.418703Z",
     "shell.execute_reply": "2022-10-14T08:53:20.417697Z",
     "shell.execute_reply.started": "2022-10-14T08:53:20.400637Z"
    }
   },
   "outputs": [
    {
     "data": {
      "text/plain": [
       "female    0.543351\n",
       "male     -0.543351\n",
       "dtype: float64"
      ]
     },
     "execution_count": 10,
     "metadata": {},
     "output_type": "execute_result"
    }
   ],
   "source": [
    "#Sex was not included in the above correlation as it is a string.  \n",
    "#We can use .get_dummies().  This converts a categorical variable into \n",
    "#dummy (binary) variables\n",
    "\n",
    "train_data['sex'].str.get_dummies().corrwith(train_data['survived']/train_data['survived'].max())"
   ]
  },
  {
   "cell_type": "markdown",
   "metadata": {},
   "source": [
    "This indicates that being male was strongly negatively correlated with the survival rate and the opposite for women."
   ]
  },
  {
   "cell_type": "code",
   "execution_count": 11,
   "metadata": {
    "execution": {
     "iopub.execute_input": "2022-10-14T08:53:20.420934Z",
     "iopub.status.busy": "2022-10-14T08:53:20.420534Z",
     "iopub.status.idle": "2022-10-14T08:53:20.913988Z",
     "shell.execute_reply": "2022-10-14T08:53:20.912989Z",
     "shell.execute_reply.started": "2022-10-14T08:53:20.420892Z"
    }
   },
   "outputs": [
    {
     "data": {
      "text/plain": [
       "<AxesSubplot:xlabel='familysize', ylabel='survived'>"
      ]
     },
     "execution_count": 11,
     "metadata": {},
     "output_type": "execute_result"
    },
    {
     "data": {
      "image/png": "[encoded data removed]",
      "text/plain": [
       "<Figure size 432x288 with 1 Axes>"
      ]
     },
     "metadata": {
      "needs_background": "light"
     },
     "output_type": "display_data"
    }
   ],
   "source": [
    "#Let's see if family size affects survival rates\n",
    "train_data[\"familysize\"] = train_data[\"sibsp\"] + train_data[\"parch\"] + 1\n",
    "\n",
    "sns.barplot(x = \"familysize\", y =\"survived\", data = train_data)"
   ]
  },
  {
   "cell_type": "code",
   "execution_count": 12,
   "metadata": {
    "execution": {
     "iopub.execute_input": "2022-10-14T08:53:20.915976Z",
     "iopub.status.busy": "2022-10-14T08:53:20.915716Z",
     "iopub.status.idle": "2022-10-14T08:53:21.223571Z",
     "shell.execute_reply": "2022-10-14T08:53:21.222598Z",
     "shell.execute_reply.started": "2022-10-14T08:53:20.915945Z"
    }
   },
   "outputs": [
    {
     "data": {
      "text/plain": [
       "<AxesSubplot:title={'center':'Survived by family size'}, xlabel='familysize'>"
      ]
     },
     "execution_count": 12,
     "metadata": {},
     "output_type": "execute_result"
    },
    {
     "data": {
      "image/png": "[encoded data removed]",
      "text/plain": [
       "<Figure size 432x288 with 1 Axes>"
      ]
     },
     "metadata": {
      "needs_background": "light"
     },
     "output_type": "display_data"
    }
   ],
   "source": [
    "pd.crosstab(train_data['familysize'], train_data['survived']).plot(kind='bar', stacked=True, title=\"Survived by family size\")"
   ]
  },
  {
   "cell_type": "markdown",
   "metadata": {
    "execution": {
     "iopub.execute_input": "2022-10-14T08:31:30.115074Z",
     "iopub.status.busy": "2022-10-14T08:31:30.114792Z",
     "iopub.status.idle": "2022-10-14T08:31:30.121021Z",
     "shell.execute_reply": "2022-10-14T08:31:30.120018Z",
     "shell.execute_reply.started": "2022-10-14T08:31:30.115045Z"
    }
   },
   "source": [
    "It appears that family sized did affect the survival rates at least up to a family size of 4. Then it appears negligable. I will use this in my analysis."
   ]
  },
  {
   "cell_type": "code",
   "execution_count": 13,
   "metadata": {
    "execution": {
     "iopub.execute_input": "2022-10-14T08:53:21.227567Z",
     "iopub.status.busy": "2022-10-14T08:53:21.227273Z",
     "iopub.status.idle": "2022-10-14T08:53:21.242796Z",
     "shell.execute_reply": "2022-10-14T08:53:21.241825Z",
     "shell.execute_reply.started": "2022-10-14T08:53:21.227520Z"
    }
   },
   "outputs": [
    {
     "name": "stdout",
     "output_type": "stream",
     "text": [
      "<class 'pandas.core.frame.DataFrame'>\n",
      "RangeIndex: 891 entries, 0 to 890\n",
      "Data columns (total 13 columns):\n",
      " #   Column       Non-Null Count  Dtype  \n",
      "---  ------       --------------  -----  \n",
      " 0   passengerid  891 non-null    int64  \n",
      " 1   survived     891 non-null    int64  \n",
      " 2   pclass       891 non-null    int64  \n",
      " 3   name         891 non-null    object \n",
      " 4   sex          891 non-null    object \n",
      " 5   age          714 non-null    float64\n",
      " 6   sibsp        891 non-null    int64  \n",
      " 7   parch        891 non-null    int64  \n",
      " 8   ticket       891 non-null    object \n",
      " 9   fare         891 non-null    float64\n",
      " 10  cabin        204 non-null    object \n",
      " 11  embarked     889 non-null    object \n",
      " 12  familysize   891 non-null    int64  \n",
      "dtypes: float64(2), int64(6), object(5)\n",
      "memory usage: 90.6+ KB\n"
     ]
    }
   ],
   "source": [
    "train_data.info()"
   ]
  },
  {
   "cell_type": "code",
   "execution_count": 14,
   "metadata": {
    "execution": {
     "iopub.execute_input": "2022-10-14T08:53:21.245315Z",
     "iopub.status.busy": "2022-10-14T08:53:21.244288Z",
     "iopub.status.idle": "2022-10-14T08:53:21.258889Z",
     "shell.execute_reply": "2022-10-14T08:53:21.257925Z",
     "shell.execute_reply.started": "2022-10-14T08:53:21.245260Z"
    }
   },
   "outputs": [
    {
     "data": {
      "text/plain": [
       "passengerid      0\n",
       "survived         0\n",
       "pclass           0\n",
       "name             0\n",
       "sex              0\n",
       "age            177\n",
       "sibsp            0\n",
       "parch            0\n",
       "ticket           0\n",
       "fare             0\n",
       "cabin          687\n",
       "embarked         2\n",
       "familysize       0\n",
       "dtype: int64"
      ]
     },
     "execution_count": 14,
     "metadata": {},
     "output_type": "execute_result"
    }
   ],
   "source": [
    "# number of null values in dataset\n",
    "train_data.isnull().sum() "
   ]
  },
  {
   "cell_type": "markdown",
   "metadata": {},
   "source": [
    "We can see from the above listing that there is 177 missing values in age. I believe age is an important factor in survival because those that were able to fend for themselves (not elderly or a small child) would stand a better chance of surviving. I will try and find the mean age by sex and class to substitute the missing values.\n",
    "\n",
    "There are too many missing values in the cabin column and I will exclude this column from my analysis.\n",
    "\n",
    "There are 2 missing entries on embarked. I will see if it is easy to establish where they embarked. If not, I will exclude them from the analysis."
   ]
  },
  {
   "cell_type": "code",
   "execution_count": 15,
   "metadata": {
    "execution": {
     "iopub.execute_input": "2022-10-14T08:53:21.261095Z",
     "iopub.status.busy": "2022-10-14T08:53:21.260777Z",
     "iopub.status.idle": "2022-10-14T08:53:21.670811Z",
     "shell.execute_reply": "2022-10-14T08:53:21.669736Z",
     "shell.execute_reply.started": "2022-10-14T08:53:21.261052Z"
    }
   },
   "outputs": [
    {
     "data": {
      "text/plain": [
       "Text(0.5, 1.0, 'Missing values heatmap')"
      ]
     },
     "execution_count": 15,
     "metadata": {},
     "output_type": "execute_result"
    },
    {
     "data": {
      "image/png": "[encoded data removed]",
      "text/plain": [
       "<Figure size 432x288 with 1 Axes>"
      ]
     },
     "metadata": {
      "needs_background": "light"
     },
     "output_type": "display_data"
    }
   ],
   "source": [
    "#another way of presenting the above missing data visually\n",
    "sns.heatmap(train_data.isnull(), cbar = False).set_title(\"Missing values heatmap\")"
   ]
  },
  {
   "cell_type": "markdown",
   "metadata": {},
   "source": [
    "# Data Cleanup and Engineering"
   ]
  },
  {
   "cell_type": "code",
   "execution_count": 16,
   "metadata": {
    "execution": {
     "iopub.execute_input": "2022-10-14T08:53:21.672683Z",
     "iopub.status.busy": "2022-10-14T08:53:21.672327Z",
     "iopub.status.idle": "2022-10-14T08:53:21.685807Z",
     "shell.execute_reply": "2022-10-14T08:53:21.684499Z",
     "shell.execute_reply.started": "2022-10-14T08:53:21.672634Z"
    }
   },
   "outputs": [
    {
     "data": {
      "text/plain": [
       "0"
      ]
     },
     "execution_count": 16,
     "metadata": {},
     "output_type": "execute_result"
    }
   ],
   "source": [
    "#Check for duplicated passenger info.  There isn't any to deal with.\n",
    "duplications = train_data.duplicated().sum() \n",
    "duplications"
   ]
  },
  {
   "cell_type": "code",
   "execution_count": 17,
   "metadata": {
    "execution": {
     "iopub.execute_input": "2022-10-14T08:53:21.688056Z",
     "iopub.status.busy": "2022-10-14T08:53:21.687720Z",
     "iopub.status.idle": "2022-10-14T08:53:21.694457Z",
     "shell.execute_reply": "2022-10-14T08:53:21.693386Z",
     "shell.execute_reply.started": "2022-10-14T08:53:21.688012Z"
    }
   },
   "outputs": [],
   "source": [
    "#change the values in the 'fare' column to integers for ease of calculations\n",
    "train_data['fare']=train_data['fare'].astype(int)"
   ]
  },
  {
   "cell_type": "code",
   "execution_count": 18,
   "metadata": {
    "execution": {
     "iopub.execute_input": "2022-10-14T08:53:21.696804Z",
     "iopub.status.busy": "2022-10-14T08:53:21.696253Z",
     "iopub.status.idle": "2022-10-14T08:53:21.718187Z",
     "shell.execute_reply": "2022-10-14T08:53:21.717338Z",
     "shell.execute_reply.started": "2022-10-14T08:53:21.696755Z"
    }
   },
   "outputs": [
    {
     "name": "stdout",
     "output_type": "stream",
     "text": [
      "<class 'pandas.core.frame.DataFrame'>\n",
      "RangeIndex: 891 entries, 0 to 890\n",
      "Data columns (total 13 columns):\n",
      " #   Column       Non-Null Count  Dtype  \n",
      "---  ------       --------------  -----  \n",
      " 0   passengerid  891 non-null    int64  \n",
      " 1   survived     891 non-null    int64  \n",
      " 2   pclass       891 non-null    int64  \n",
      " 3   name         891 non-null    object \n",
      " 4   sex          891 non-null    object \n",
      " 5   age          714 non-null    float64\n",
      " 6   sibsp        891 non-null    int64  \n",
      " 7   parch        891 non-null    int64  \n",
      " 8   ticket       891 non-null    object \n",
      " 9   fare         891 non-null    int64  \n",
      " 10  cabin        204 non-null    object \n",
      " 11  embarked     889 non-null    object \n",
      " 12  familysize   891 non-null    int64  \n",
      "dtypes: float64(1), int64(7), object(5)\n",
      "memory usage: 90.6+ KB\n"
     ]
    }
   ],
   "source": [
    "train_data.info()"
   ]
  },
  {
   "cell_type": "code",
   "execution_count": 19,
   "metadata": {
    "execution": {
     "iopub.execute_input": "2022-10-14T08:53:21.719418Z",
     "iopub.status.busy": "2022-10-14T08:53:21.719171Z",
     "iopub.status.idle": "2022-10-14T08:53:21.728326Z",
     "shell.execute_reply": "2022-10-14T08:53:21.727399Z",
     "shell.execute_reply.started": "2022-10-14T08:53:21.719387Z"
    }
   },
   "outputs": [
    {
     "data": {
      "text/plain": [
       "S    644\n",
       "C    168\n",
       "Q     77\n",
       "Name: embarked, dtype: int64"
      ]
     },
     "execution_count": 19,
     "metadata": {},
     "output_type": "execute_result"
    }
   ],
   "source": [
    "#Fill in missing Port of embarkation values as there are 2 missing\n",
    "train_data['embarked'].value_counts()"
   ]
  },
  {
   "cell_type": "code",
   "execution_count": 20,
   "metadata": {
    "execution": {
     "iopub.execute_input": "2022-10-14T08:53:21.729820Z",
     "iopub.status.busy": "2022-10-14T08:53:21.729534Z",
     "iopub.status.idle": "2022-10-14T08:53:21.751144Z",
     "shell.execute_reply": "2022-10-14T08:53:21.750014Z",
     "shell.execute_reply.started": "2022-10-14T08:53:21.729788Z"
    }
   },
   "outputs": [
    {
     "data": {
      "text/html": [
       "<div>\n",
       "<style scoped>\n",
       "    .dataframe tbody tr th:only-of-type {\n",
       "        vertical-align: middle;\n",
       "    }\n",
       "\n",
       "    .dataframe tbody tr th {\n",
       "        vertical-align: top;\n",
       "    }\n",
       "\n",
       "    .dataframe thead th {\n",
       "        text-align: right;\n",
       "    }\n",
       "</style>\n",
       "<table border=\"1\" class=\"dataframe\">\n",
       "  <thead>\n",
       "    <tr style=\"text-align: right;\">\n",
       "      <th></th>\n",
       "      <th>passengerid</th>\n",
       "      <th>survived</th>\n",
       "      <th>pclass</th>\n",
       "      <th>name</th>\n",
       "      <th>sex</th>\n",
       "      <th>age</th>\n",
       "      <th>sibsp</th>\n",
       "      <th>parch</th>\n",
       "      <th>ticket</th>\n",
       "      <th>fare</th>\n",
       "      <th>cabin</th>\n",
       "      <th>embarked</th>\n",
       "      <th>familysize</th>\n",
       "    </tr>\n",
       "  </thead>\n",
       "  <tbody>\n",
       "    <tr>\n",
       "      <th>61</th>\n",
       "      <td>62</td>\n",
       "      <td>1</td>\n",
       "      <td>1</td>\n",
       "      <td>Icard, Miss. Amelie</td>\n",
       "      <td>female</td>\n",
       "      <td>38.0</td>\n",
       "      <td>0</td>\n",
       "      <td>0</td>\n",
       "      <td>113572</td>\n",
       "      <td>80</td>\n",
       "      <td>B28</td>\n",
       "      <td>NaN</td>\n",
       "      <td>1</td>\n",
       "    </tr>\n",
       "    <tr>\n",
       "      <th>829</th>\n",
       "      <td>830</td>\n",
       "      <td>1</td>\n",
       "      <td>1</td>\n",
       "      <td>Stone, Mrs. George Nelson (Martha Evelyn)</td>\n",
       "      <td>female</td>\n",
       "      <td>62.0</td>\n",
       "      <td>0</td>\n",
       "      <td>0</td>\n",
       "      <td>113572</td>\n",
       "      <td>80</td>\n",
       "      <td>B28</td>\n",
       "      <td>NaN</td>\n",
       "      <td>1</td>\n",
       "    </tr>\n",
       "  </tbody>\n",
       "</table>\n",
       "</div>"
      ],
      "text/plain": [
       "     passengerid  survived  pclass                                       name  \\\n",
       "61            62         1       1                        Icard, Miss. Amelie   \n",
       "829          830         1       1  Stone, Mrs. George Nelson (Martha Evelyn)   \n",
       "\n",
       "        sex   age  sibsp  parch  ticket  fare cabin embarked  familysize  \n",
       "61   female  38.0      0      0  113572    80   B28      NaN           1  \n",
       "829  female  62.0      0      0  113572    80   B28      NaN           1  "
      ]
     },
     "execution_count": 20,
     "metadata": {},
     "output_type": "execute_result"
    }
   ],
   "source": [
    "missing_embarked = train_data[pd.isnull(train_data.embarked)]\n",
    "missing_embarked"
   ]
  },
  {
   "cell_type": "code",
   "execution_count": 21,
   "metadata": {
    "execution": {
     "iopub.execute_input": "2022-10-14T08:53:21.753193Z",
     "iopub.status.busy": "2022-10-14T08:53:21.752541Z",
     "iopub.status.idle": "2022-10-14T08:53:21.795270Z",
     "shell.execute_reply": "2022-10-14T08:53:21.792641Z",
     "shell.execute_reply.started": "2022-10-14T08:53:21.753155Z"
    }
   },
   "outputs": [
    {
     "data": {
      "text/plain": [
       "embarked  pclass\n",
       "C         1         115.186047\n",
       "          2          24.857143\n",
       "          3          14.347826\n",
       "Q         1          90.000000\n",
       "          2          12.000000\n",
       "          3           9.666667\n",
       "S         1          98.583333\n",
       "          2          21.746269\n",
       "          3          18.147727\n",
       "Name: fare, dtype: float64"
      ]
     },
     "execution_count": 21,
     "metadata": {},
     "output_type": "execute_result"
    }
   ],
   "source": [
    "#the missing info belong to 2 females, I will ascertain the mean fare by class for females only\n",
    "female_only = train_data[train_data['sex'] == 'female'].groupby([\"embarked\",\"pclass\"])[\"fare\"].mean()\n",
    "female_only"
   ]
  },
  {
   "cell_type": "markdown",
   "metadata": {},
   "source": [
    "The above data are the mean prices for females grouped by ports of embarkations. As both passengers with missing embarkation information paid 80 and are in first class, I will insert Q as their embarkation port as all other first class fares are well above the 80 that was paid."
   ]
  },
  {
   "cell_type": "code",
   "execution_count": 22,
   "metadata": {
    "execution": {
     "iopub.execute_input": "2022-10-14T08:53:21.797425Z",
     "iopub.status.busy": "2022-10-14T08:53:21.797158Z",
     "iopub.status.idle": "2022-10-14T08:53:21.807575Z",
     "shell.execute_reply": "2022-10-14T08:53:21.805276Z",
     "shell.execute_reply.started": "2022-10-14T08:53:21.797390Z"
    }
   },
   "outputs": [],
   "source": [
    "train_data[\"embarked\"] = train_data[\"embarked\"].fillna(\"Q\")"
   ]
  },
  {
   "cell_type": "code",
   "execution_count": 23,
   "metadata": {
    "execution": {
     "iopub.execute_input": "2022-10-14T08:53:21.810730Z",
     "iopub.status.busy": "2022-10-14T08:53:21.810336Z",
     "iopub.status.idle": "2022-10-14T08:53:22.017657Z",
     "shell.execute_reply": "2022-10-14T08:53:22.016643Z",
     "shell.execute_reply.started": "2022-10-14T08:53:21.810680Z"
    }
   },
   "outputs": [
    {
     "name": "stdout",
     "output_type": "stream",
     "text": [
      "<class 'pandas.core.frame.DataFrame'>\n",
      "RangeIndex: 891 entries, 0 to 890\n",
      "Data columns (total 13 columns):\n",
      " #   Column       Non-Null Count  Dtype  \n",
      "---  ------       --------------  -----  \n",
      " 0   passengerid  891 non-null    int64  \n",
      " 1   survived     891 non-null    int64  \n",
      " 2   pclass       891 non-null    int64  \n",
      " 3   name         891 non-null    object \n",
      " 4   sex          891 non-null    object \n",
      " 5   age          714 non-null    float64\n",
      " 6   sibsp        891 non-null    int64  \n",
      " 7   parch        891 non-null    int64  \n",
      " 8   ticket       891 non-null    object \n",
      " 9   fare         891 non-null    int64  \n",
      " 10  cabin        204 non-null    object \n",
      " 11  embarked     891 non-null    object \n",
      " 12  familysize   891 non-null    int64  \n",
      "dtypes: float64(1), int64(7), object(5)\n",
      "memory usage: 90.6+ KB\n"
     ]
    }
   ],
   "source": [
    "train_data.info()"
   ]
  },
  {
   "cell_type": "code",
   "execution_count": 24,
   "metadata": {
    "execution": {
     "iopub.execute_input": "2022-10-14T08:53:22.019108Z",
     "iopub.status.busy": "2022-10-14T08:53:22.018857Z",
     "iopub.status.idle": "2022-10-14T08:53:22.023798Z",
     "shell.execute_reply": "2022-10-14T08:53:22.023005Z",
     "shell.execute_reply.started": "2022-10-14T08:53:22.019076Z"
    }
   },
   "outputs": [],
   "source": [
    "#Fill in missing age values\n",
    "by_sex_class = train_data.groupby(['sex', 'pclass'])"
   ]
  },
  {
   "cell_type": "code",
   "execution_count": 25,
   "metadata": {
    "execution": {
     "iopub.execute_input": "2022-10-14T08:53:22.025744Z",
     "iopub.status.busy": "2022-10-14T08:53:22.025048Z",
     "iopub.status.idle": "2022-10-14T08:53:22.040909Z",
     "shell.execute_reply": "2022-10-14T08:53:22.039692Z",
     "shell.execute_reply.started": "2022-10-14T08:53:22.025462Z"
    }
   },
   "outputs": [],
   "source": [
    "def impute_median(series):\n",
    "    return series.fillna(series.median())"
   ]
  },
  {
   "cell_type": "code",
   "execution_count": 26,
   "metadata": {
    "execution": {
     "iopub.execute_input": "2022-10-14T08:53:22.042980Z",
     "iopub.status.busy": "2022-10-14T08:53:22.042636Z",
     "iopub.status.idle": "2022-10-14T08:53:22.059812Z",
     "shell.execute_reply": "2022-10-14T08:53:22.058492Z",
     "shell.execute_reply.started": "2022-10-14T08:53:22.042925Z"
    }
   },
   "outputs": [],
   "source": [
    "train_data.age = by_sex_class['age'].transform(impute_median)"
   ]
  },
  {
   "cell_type": "markdown",
   "metadata": {},
   "source": [
    "# Factorizing Features\n",
    "I will factorise sex or make the words male/female be represented by numbers (male = 0, female = 1)\n"
   ]
  },
  {
   "cell_type": "code",
   "execution_count": 27,
   "metadata": {
    "execution": {
     "iopub.execute_input": "2022-10-14T08:53:22.061882Z",
     "iopub.status.busy": "2022-10-14T08:53:22.061513Z",
     "iopub.status.idle": "2022-10-14T08:53:22.069488Z",
     "shell.execute_reply": "2022-10-14T08:53:22.068321Z",
     "shell.execute_reply.started": "2022-10-14T08:53:22.061843Z"
    }
   },
   "outputs": [],
   "source": [
    "#I will factorise sex (male = 0, female = 1)\n",
    "train_data['sex_f'] = pd.factorize(train_data['sex'])[0]"
   ]
  },
  {
   "cell_type": "code",
   "execution_count": 28,
   "metadata": {
    "execution": {
     "iopub.execute_input": "2022-10-14T08:53:22.071674Z",
     "iopub.status.busy": "2022-10-14T08:53:22.071375Z",
     "iopub.status.idle": "2022-10-14T08:53:22.095421Z",
     "shell.execute_reply": "2022-10-14T08:53:22.094568Z",
     "shell.execute_reply.started": "2022-10-14T08:53:22.071603Z"
    }
   },
   "outputs": [
    {
     "data": {
      "text/html": [
       "<div>\n",
       "<style scoped>\n",
       "    .dataframe tbody tr th:only-of-type {\n",
       "        vertical-align: middle;\n",
       "    }\n",
       "\n",
       "    .dataframe tbody tr th {\n",
       "        vertical-align: top;\n",
       "    }\n",
       "\n",
       "    .dataframe thead th {\n",
       "        text-align: right;\n",
       "    }\n",
       "</style>\n",
       "<table border=\"1\" class=\"dataframe\">\n",
       "  <thead>\n",
       "    <tr style=\"text-align: right;\">\n",
       "      <th></th>\n",
       "      <th>embarked</th>\n",
       "      <th>embarked_f</th>\n",
       "    </tr>\n",
       "  </thead>\n",
       "  <tbody>\n",
       "    <tr>\n",
       "      <th>0</th>\n",
       "      <td>S</td>\n",
       "      <td>0</td>\n",
       "    </tr>\n",
       "    <tr>\n",
       "      <th>1</th>\n",
       "      <td>C</td>\n",
       "      <td>1</td>\n",
       "    </tr>\n",
       "    <tr>\n",
       "      <th>2</th>\n",
       "      <td>S</td>\n",
       "      <td>0</td>\n",
       "    </tr>\n",
       "    <tr>\n",
       "      <th>3</th>\n",
       "      <td>S</td>\n",
       "      <td>0</td>\n",
       "    </tr>\n",
       "    <tr>\n",
       "      <th>4</th>\n",
       "      <td>S</td>\n",
       "      <td>0</td>\n",
       "    </tr>\n",
       "    <tr>\n",
       "      <th>...</th>\n",
       "      <td>...</td>\n",
       "      <td>...</td>\n",
       "    </tr>\n",
       "    <tr>\n",
       "      <th>886</th>\n",
       "      <td>S</td>\n",
       "      <td>0</td>\n",
       "    </tr>\n",
       "    <tr>\n",
       "      <th>887</th>\n",
       "      <td>S</td>\n",
       "      <td>0</td>\n",
       "    </tr>\n",
       "    <tr>\n",
       "      <th>888</th>\n",
       "      <td>S</td>\n",
       "      <td>0</td>\n",
       "    </tr>\n",
       "    <tr>\n",
       "      <th>889</th>\n",
       "      <td>C</td>\n",
       "      <td>1</td>\n",
       "    </tr>\n",
       "    <tr>\n",
       "      <th>890</th>\n",
       "      <td>Q</td>\n",
       "      <td>2</td>\n",
       "    </tr>\n",
       "  </tbody>\n",
       "</table>\n",
       "<p>891 rows × 2 columns</p>\n",
       "</div>"
      ],
      "text/plain": [
       "    embarked  embarked_f\n",
       "0          S           0\n",
       "1          C           1\n",
       "2          S           0\n",
       "3          S           0\n",
       "4          S           0\n",
       "..       ...         ...\n",
       "886        S           0\n",
       "887        S           0\n",
       "888        S           0\n",
       "889        C           1\n",
       "890        Q           2\n",
       "\n",
       "[891 rows x 2 columns]"
      ]
     },
     "execution_count": 28,
     "metadata": {},
     "output_type": "execute_result"
    }
   ],
   "source": [
    "#I will factorise port of embarkation (S = 0, C = 1, Q = 2)\n",
    "train_data['embarked_f'] = pd.factorize(train_data['embarked'])[0]\n",
    "train_data[['embarked', 'embarked_f']]"
   ]
  },
  {
   "cell_type": "code",
   "execution_count": 29,
   "metadata": {
    "execution": {
     "iopub.execute_input": "2022-10-14T08:53:22.096825Z",
     "iopub.status.busy": "2022-10-14T08:53:22.096533Z",
     "iopub.status.idle": "2022-10-14T08:53:22.117274Z",
     "shell.execute_reply": "2022-10-14T08:53:22.116267Z",
     "shell.execute_reply.started": "2022-10-14T08:53:22.096784Z"
    }
   },
   "outputs": [
    {
     "data": {
      "text/html": [
       "<div>\n",
       "<style scoped>\n",
       "    .dataframe tbody tr th:only-of-type {\n",
       "        vertical-align: middle;\n",
       "    }\n",
       "\n",
       "    .dataframe tbody tr th {\n",
       "        vertical-align: top;\n",
       "    }\n",
       "\n",
       "    .dataframe thead th {\n",
       "        text-align: right;\n",
       "    }\n",
       "</style>\n",
       "<table border=\"1\" class=\"dataframe\">\n",
       "  <thead>\n",
       "    <tr style=\"text-align: right;\">\n",
       "      <th></th>\n",
       "      <th>survived</th>\n",
       "      <th>pclass</th>\n",
       "      <th>name</th>\n",
       "      <th>sex</th>\n",
       "      <th>age</th>\n",
       "      <th>sibsp</th>\n",
       "      <th>parch</th>\n",
       "      <th>ticket</th>\n",
       "      <th>fare</th>\n",
       "      <th>embarked</th>\n",
       "      <th>familysize</th>\n",
       "      <th>sex_f</th>\n",
       "      <th>embarked_f</th>\n",
       "    </tr>\n",
       "  </thead>\n",
       "  <tbody>\n",
       "    <tr>\n",
       "      <th>0</th>\n",
       "      <td>0</td>\n",
       "      <td>3</td>\n",
       "      <td>Braund, Mr. Owen Harris</td>\n",
       "      <td>male</td>\n",
       "      <td>22.0</td>\n",
       "      <td>1</td>\n",
       "      <td>0</td>\n",
       "      <td>A/5 21171</td>\n",
       "      <td>7</td>\n",
       "      <td>S</td>\n",
       "      <td>2</td>\n",
       "      <td>0</td>\n",
       "      <td>0</td>\n",
       "    </tr>\n",
       "    <tr>\n",
       "      <th>1</th>\n",
       "      <td>1</td>\n",
       "      <td>1</td>\n",
       "      <td>Cumings, Mrs. John Bradley (Florence Briggs Th...</td>\n",
       "      <td>female</td>\n",
       "      <td>38.0</td>\n",
       "      <td>1</td>\n",
       "      <td>0</td>\n",
       "      <td>PC 17599</td>\n",
       "      <td>71</td>\n",
       "      <td>C</td>\n",
       "      <td>2</td>\n",
       "      <td>1</td>\n",
       "      <td>1</td>\n",
       "    </tr>\n",
       "  </tbody>\n",
       "</table>\n",
       "</div>"
      ],
      "text/plain": [
       "   survived  pclass                                               name  \\\n",
       "0         0       3                            Braund, Mr. Owen Harris   \n",
       "1         1       1  Cumings, Mrs. John Bradley (Florence Briggs Th...   \n",
       "\n",
       "      sex   age  sibsp  parch     ticket  fare embarked  familysize  sex_f  \\\n",
       "0    male  22.0      1      0  A/5 21171     7        S           2      0   \n",
       "1  female  38.0      1      0   PC 17599    71        C           2      1   \n",
       "\n",
       "   embarked_f  \n",
       "0           0  \n",
       "1           1  "
      ]
     },
     "execution_count": 29,
     "metadata": {},
     "output_type": "execute_result"
    }
   ],
   "source": [
    "#drop the passengerid and cabin column as I feel they won't add much to the prediction.\n",
    "train_data=train_data.drop(['passengerid','cabin'], axis=1)\n",
    "train_data.head(2)"
   ]
  },
  {
   "cell_type": "code",
   "execution_count": 30,
   "metadata": {
    "execution": {
     "iopub.execute_input": "2022-10-14T08:53:22.119140Z",
     "iopub.status.busy": "2022-10-14T08:53:22.118869Z",
     "iopub.status.idle": "2022-10-14T08:53:23.305661Z",
     "shell.execute_reply": "2022-10-14T08:53:23.304694Z",
     "shell.execute_reply.started": "2022-10-14T08:53:22.119107Z"
    }
   },
   "outputs": [
    {
     "data": {
      "text/plain": [
       "array([[<AxesSubplot:title={'center':'survived'}>,\n",
       "        <AxesSubplot:title={'center':'pclass'}>,\n",
       "        <AxesSubplot:title={'center':'age'}>],\n",
       "       [<AxesSubplot:title={'center':'sibsp'}>,\n",
       "        <AxesSubplot:title={'center':'parch'}>,\n",
       "        <AxesSubplot:title={'center':'fare'}>],\n",
       "       [<AxesSubplot:title={'center':'familysize'}>,\n",
       "        <AxesSubplot:title={'center':'sex_f'}>,\n",
       "        <AxesSubplot:title={'center':'embarked_f'}>]], dtype=object)"
      ]
     },
     "execution_count": 30,
     "metadata": {},
     "output_type": "execute_result"
    },
    {
     "data": {
      "image/png": "[encoded data removed]",
      "text/plain": [
       "<Figure size 432x288 with 9 Axes>"
      ]
     },
     "metadata": {
      "needs_background": "light"
     },
     "output_type": "display_data"
    }
   ],
   "source": [
    "train_data.hist()"
   ]
  },
  {
   "cell_type": "code",
   "execution_count": 31,
   "metadata": {
    "execution": {
     "iopub.execute_input": "2022-10-14T08:53:23.307316Z",
     "iopub.status.busy": "2022-10-14T08:53:23.307071Z",
     "iopub.status.idle": "2022-10-14T08:53:23.327060Z",
     "shell.execute_reply": "2022-10-14T08:53:23.325691Z",
     "shell.execute_reply.started": "2022-10-14T08:53:23.307287Z"
    }
   },
   "outputs": [
    {
     "name": "stdout",
     "output_type": "stream",
     "text": [
      "<class 'pandas.core.frame.DataFrame'>\n",
      "RangeIndex: 891 entries, 0 to 890\n",
      "Data columns (total 13 columns):\n",
      " #   Column      Non-Null Count  Dtype  \n",
      "---  ------      --------------  -----  \n",
      " 0   survived    891 non-null    int64  \n",
      " 1   pclass      891 non-null    int64  \n",
      " 2   name        891 non-null    object \n",
      " 3   sex         891 non-null    object \n",
      " 4   age         891 non-null    float64\n",
      " 5   sibsp       891 non-null    int64  \n",
      " 6   parch       891 non-null    int64  \n",
      " 7   ticket      891 non-null    object \n",
      " 8   fare        891 non-null    int64  \n",
      " 9   embarked    891 non-null    object \n",
      " 10  familysize  891 non-null    int64  \n",
      " 11  sex_f       891 non-null    int64  \n",
      " 12  embarked_f  891 non-null    int64  \n",
      "dtypes: float64(1), int64(8), object(4)\n",
      "memory usage: 90.6+ KB\n"
     ]
    }
   ],
   "source": [
    "train_data.info()"
   ]
  },
  {
   "cell_type": "markdown",
   "metadata": {},
   "source": [
    "My initial thoughts have been verified by the above analysis. I will use the following information to train/test the data for predicting the survival rate of passengers.\n",
    "\n",
    "-  pclass (class),\n",
    "-  sex_f (sex factorized),\n",
    "-  age,\n",
    "-  sibsp (siblings/spouse),\n",
    "-  family size,\n",
    "-  parch (parents of children on board)\n",
    "-  fare\n",
    "-  embarked_f (where they embarked)"
   ]
  },
  {
   "cell_type": "markdown",
   "metadata": {},
   "source": [
    "# Modelling"
   ]
  },
  {
   "cell_type": "markdown",
   "metadata": {},
   "source": [
    "I am using Supervised Machine Learning models as we know the answer of who survived and who died. Since we have a classification issue (yes or no, binary 0 or 1) we can use models such as: Logistic Regression, Random Forest Classification, Support Vector Machine (SVM), Naive Bayes, k-NN, or other deep learning models\n",
    "\n",
    "I did a seperate analysis of the following models (see my GitHub portfolio for details, username: kbolon1):\n",
    "-  Logistic Regression, \n",
    "-  Random Forest Classification, and \n",
    "-  Support Vector Machine \n",
    "and had the best results with the Random Forest Classification once I added family size to my analysis and have included the model below."
   ]
  },
  {
   "cell_type": "markdown",
   "metadata": {},
   "source": [
    "# Train the Model"
   ]
  },
  {
   "cell_type": "code",
   "execution_count": 32,
   "metadata": {
    "execution": {
     "iopub.execute_input": "2022-10-14T08:53:23.330027Z",
     "iopub.status.busy": "2022-10-14T08:53:23.328927Z",
     "iopub.status.idle": "2022-10-14T08:53:23.339935Z",
     "shell.execute_reply": "2022-10-14T08:53:23.338649Z",
     "shell.execute_reply.started": "2022-10-14T08:53:23.329978Z"
    }
   },
   "outputs": [],
   "source": [
    "#drop the column \"survived\" from file as we are creating a ML to predict\n",
    "#y is true data (Y_true) the survivors from the original file, we will try and predict Y_new\n",
    "X_train = train_data[['pclass','age', 'sibsp', 'parch', 'fare', 'familysize', 'sex_f', 'embarked_f']]\n",
    "y_train = train_data[\"survived\"]"
   ]
  },
  {
   "cell_type": "code",
   "execution_count": 33,
   "metadata": {
    "execution": {
     "iopub.execute_input": "2022-10-14T08:53:23.342416Z",
     "iopub.status.busy": "2022-10-14T08:53:23.341559Z",
     "iopub.status.idle": "2022-10-14T08:53:23.357168Z",
     "shell.execute_reply": "2022-10-14T08:53:23.355444Z",
     "shell.execute_reply.started": "2022-10-14T08:53:23.342313Z"
    }
   },
   "outputs": [
    {
     "data": {
      "text/plain": [
       "((891, 8), (891,))"
      ]
     },
     "execution_count": 33,
     "metadata": {},
     "output_type": "execute_result"
    }
   ],
   "source": [
    "X_train.shape, y_train.shape"
   ]
  },
  {
   "cell_type": "code",
   "execution_count": 34,
   "metadata": {
    "execution": {
     "iopub.execute_input": "2022-10-14T08:53:23.358670Z",
     "iopub.status.busy": "2022-10-14T08:53:23.358317Z",
     "iopub.status.idle": "2022-10-14T08:53:23.521048Z",
     "shell.execute_reply": "2022-10-14T08:53:23.519741Z",
     "shell.execute_reply.started": "2022-10-14T08:53:23.358622Z"
    }
   },
   "outputs": [
    {
     "data": {
      "text/plain": [
       "RandomForestClassifier(max_depth=4, n_estimators=70)"
      ]
     },
     "execution_count": 34,
     "metadata": {},
     "output_type": "execute_result"
    }
   ],
   "source": [
    "rfc = RandomForestClassifier(n_estimators=70, max_depth=4)    #Hyperparam: n_estimators(number of trees)\n",
    "rfc.fit(X_train, y_train)"
   ]
  },
  {
   "cell_type": "code",
   "execution_count": 35,
   "metadata": {
    "execution": {
     "iopub.execute_input": "2022-10-14T08:53:23.523123Z",
     "iopub.status.busy": "2022-10-14T08:53:23.522795Z",
     "iopub.status.idle": "2022-10-14T08:53:23.551668Z",
     "shell.execute_reply": "2022-10-14T08:53:23.550457Z",
     "shell.execute_reply.started": "2022-10-14T08:53:23.523088Z"
    }
   },
   "outputs": [
    {
     "name": "stdout",
     "output_type": "stream",
     "text": [
      "Train Score = 0.84\n"
     ]
    }
   ],
   "source": [
    "print(f'Train Score = {round(rfc.score(X_train, y_train), 2)}')"
   ]
  },
  {
   "cell_type": "markdown",
   "metadata": {},
   "source": [
    "# Cross Validation on Random Forest Classifier"
   ]
  },
  {
   "cell_type": "code",
   "execution_count": 36,
   "metadata": {
    "execution": {
     "iopub.execute_input": "2022-10-14T08:53:23.554832Z",
     "iopub.status.busy": "2022-10-14T08:53:23.553438Z",
     "iopub.status.idle": "2022-10-14T08:53:24.236810Z",
     "shell.execute_reply": "2022-10-14T08:53:24.236105Z",
     "shell.execute_reply.started": "2022-10-14T08:53:23.554772Z"
    }
   },
   "outputs": [
    {
     "data": {
      "text/plain": [
       "array([0.77, 0.83, 0.84, 0.79, 0.84])"
      ]
     },
     "execution_count": 36,
     "metadata": {},
     "output_type": "execute_result"
    }
   ],
   "source": [
    "cross_accuracy_log = cross_val_score(rfc,  #estimator: the model that you want to evalueate\n",
    "                                     X_train, # the training data\n",
    "                                     y_train,  # the training data\n",
    "                                     cv = 5 , # number of cross validation datasets, k-folds\n",
    "                                     scoring = 'accuracy' # evaluation metric\n",
    "\n",
    ")\n",
    "\n",
    "CAL=np.round_(cross_accuracy_log, 2)\n",
    "CAL"
   ]
  },
  {
   "cell_type": "markdown",
   "metadata": {},
   "source": [
    "# Test Data"
   ]
  },
  {
   "cell_type": "code",
   "execution_count": 37,
   "metadata": {
    "execution": {
     "iopub.execute_input": "2022-10-14T08:53:24.238475Z",
     "iopub.status.busy": "2022-10-14T08:53:24.238053Z",
     "iopub.status.idle": "2022-10-14T08:53:24.246683Z",
     "shell.execute_reply": "2022-10-14T08:53:24.245880Z",
     "shell.execute_reply.started": "2022-10-14T08:53:24.238443Z"
    }
   },
   "outputs": [],
   "source": [
    "test_data = pd.read_csv(\"/kaggle/input/titanic/test.csv\")"
   ]
  },
  {
   "cell_type": "code",
   "execution_count": 38,
   "metadata": {
    "execution": {
     "iopub.execute_input": "2022-10-14T08:53:24.248689Z",
     "iopub.status.busy": "2022-10-14T08:53:24.248380Z",
     "iopub.status.idle": "2022-10-14T08:53:24.261050Z",
     "shell.execute_reply": "2022-10-14T08:53:24.259725Z",
     "shell.execute_reply.started": "2022-10-14T08:53:24.248650Z"
    }
   },
   "outputs": [],
   "source": [
    "test_data.columns = test_data.columns.str.lower()"
   ]
  },
  {
   "cell_type": "code",
   "execution_count": 39,
   "metadata": {
    "execution": {
     "iopub.execute_input": "2022-10-14T08:53:24.262888Z",
     "iopub.status.busy": "2022-10-14T08:53:24.262600Z",
     "iopub.status.idle": "2022-10-14T08:53:24.284569Z",
     "shell.execute_reply": "2022-10-14T08:53:24.283299Z",
     "shell.execute_reply.started": "2022-10-14T08:53:24.262854Z"
    }
   },
   "outputs": [
    {
     "name": "stdout",
     "output_type": "stream",
     "text": [
      "<class 'pandas.core.frame.DataFrame'>\n",
      "RangeIndex: 418 entries, 0 to 417\n",
      "Data columns (total 11 columns):\n",
      " #   Column       Non-Null Count  Dtype  \n",
      "---  ------       --------------  -----  \n",
      " 0   passengerid  418 non-null    int64  \n",
      " 1   pclass       418 non-null    int64  \n",
      " 2   name         418 non-null    object \n",
      " 3   sex          418 non-null    object \n",
      " 4   age          332 non-null    float64\n",
      " 5   sibsp        418 non-null    int64  \n",
      " 6   parch        418 non-null    int64  \n",
      " 7   ticket       418 non-null    object \n",
      " 8   fare         417 non-null    float64\n",
      " 9   cabin        91 non-null     object \n",
      " 10  embarked     418 non-null    object \n",
      "dtypes: float64(2), int64(4), object(5)\n",
      "memory usage: 36.0+ KB\n"
     ]
    }
   ],
   "source": [
    "test_data.info()"
   ]
  },
  {
   "cell_type": "code",
   "execution_count": 40,
   "metadata": {
    "execution": {
     "iopub.execute_input": "2022-10-14T08:53:24.291127Z",
     "iopub.status.busy": "2022-10-14T08:53:24.290109Z",
     "iopub.status.idle": "2022-10-14T08:53:24.305054Z",
     "shell.execute_reply": "2022-10-14T08:53:24.303699Z",
     "shell.execute_reply.started": "2022-10-14T08:53:24.291079Z"
    }
   },
   "outputs": [
    {
     "data": {
      "text/plain": [
       "passengerid      0\n",
       "pclass           0\n",
       "name             0\n",
       "sex              0\n",
       "age             86\n",
       "sibsp            0\n",
       "parch            0\n",
       "ticket           0\n",
       "fare             1\n",
       "cabin          327\n",
       "embarked         0\n",
       "dtype: int64"
      ]
     },
     "execution_count": 40,
     "metadata": {},
     "output_type": "execute_result"
    }
   ],
   "source": [
    "test_data.isna().sum()"
   ]
  },
  {
   "cell_type": "code",
   "execution_count": 41,
   "metadata": {
    "execution": {
     "iopub.execute_input": "2022-10-14T08:53:24.306454Z",
     "iopub.status.busy": "2022-10-14T08:53:24.306220Z",
     "iopub.status.idle": "2022-10-14T08:53:24.321140Z",
     "shell.execute_reply": "2022-10-14T08:53:24.319306Z",
     "shell.execute_reply.started": "2022-10-14T08:53:24.306424Z"
    }
   },
   "outputs": [],
   "source": [
    "test_data['fare'].fillna(0, inplace = True)"
   ]
  },
  {
   "cell_type": "code",
   "execution_count": 42,
   "metadata": {
    "execution": {
     "iopub.execute_input": "2022-10-14T08:53:24.323935Z",
     "iopub.status.busy": "2022-10-14T08:53:24.322917Z",
     "iopub.status.idle": "2022-10-14T08:53:24.347583Z",
     "shell.execute_reply": "2022-10-14T08:53:24.346874Z",
     "shell.execute_reply.started": "2022-10-14T08:53:24.323875Z"
    }
   },
   "outputs": [
    {
     "name": "stdout",
     "output_type": "stream",
     "text": [
      "<class 'pandas.core.frame.DataFrame'>\n",
      "RangeIndex: 418 entries, 0 to 417\n",
      "Data columns (total 11 columns):\n",
      " #   Column       Non-Null Count  Dtype  \n",
      "---  ------       --------------  -----  \n",
      " 0   passengerid  418 non-null    int64  \n",
      " 1   pclass       418 non-null    int64  \n",
      " 2   name         418 non-null    object \n",
      " 3   sex          418 non-null    object \n",
      " 4   age          332 non-null    float64\n",
      " 5   sibsp        418 non-null    int64  \n",
      " 6   parch        418 non-null    int64  \n",
      " 7   ticket       418 non-null    object \n",
      " 8   fare         418 non-null    float64\n",
      " 9   cabin        91 non-null     object \n",
      " 10  embarked     418 non-null    object \n",
      "dtypes: float64(2), int64(4), object(5)\n",
      "memory usage: 36.0+ KB\n"
     ]
    }
   ],
   "source": [
    "test_data.info()"
   ]
  },
  {
   "cell_type": "code",
   "execution_count": 43,
   "metadata": {
    "execution": {
     "iopub.execute_input": "2022-10-14T08:53:24.349198Z",
     "iopub.status.busy": "2022-10-14T08:53:24.348757Z",
     "iopub.status.idle": "2022-10-14T08:53:24.366370Z",
     "shell.execute_reply": "2022-10-14T08:53:24.365125Z",
     "shell.execute_reply.started": "2022-10-14T08:53:24.349124Z"
    }
   },
   "outputs": [],
   "source": [
    "test_data['fare']=test_data['fare'].astype(int)\n"
   ]
  },
  {
   "cell_type": "code",
   "execution_count": 44,
   "metadata": {
    "execution": {
     "iopub.execute_input": "2022-10-14T08:53:24.368511Z",
     "iopub.status.busy": "2022-10-14T08:53:24.368123Z",
     "iopub.status.idle": "2022-10-14T08:53:24.386026Z",
     "shell.execute_reply": "2022-10-14T08:53:24.385174Z",
     "shell.execute_reply.started": "2022-10-14T08:53:24.368427Z"
    }
   },
   "outputs": [],
   "source": [
    "#Fill in missing age values\n",
    "by_sex_class_test = test_data.groupby(['sex', 'pclass'])"
   ]
  },
  {
   "cell_type": "code",
   "execution_count": 45,
   "metadata": {
    "execution": {
     "iopub.execute_input": "2022-10-14T08:53:24.389839Z",
     "iopub.status.busy": "2022-10-14T08:53:24.388137Z",
     "iopub.status.idle": "2022-10-14T08:53:24.406427Z",
     "shell.execute_reply": "2022-10-14T08:53:24.405226Z",
     "shell.execute_reply.started": "2022-10-14T08:53:24.389781Z"
    }
   },
   "outputs": [],
   "source": [
    "test_data.age = by_sex_class_test['age'].transform(impute_median)"
   ]
  },
  {
   "cell_type": "markdown",
   "metadata": {
    "execution": {
     "iopub.status.busy": "2022-10-13T15:29:25.872354Z",
     "iopub.status.idle": "2022-10-13T15:29:25.872671Z",
     "shell.execute_reply": "2022-10-13T15:29:25.872523Z",
     "shell.execute_reply.started": "2022-10-13T15:29:25.872497Z"
    }
   },
   "source": [
    "I will not be using the feature 'cabin' and therefore not try to replace the missing values.  It will be removed from the analysis"
   ]
  },
  {
   "cell_type": "code",
   "execution_count": 46,
   "metadata": {
    "execution": {
     "iopub.execute_input": "2022-10-14T08:53:24.408570Z",
     "iopub.status.busy": "2022-10-14T08:53:24.408263Z",
     "iopub.status.idle": "2022-10-14T08:53:24.417610Z",
     "shell.execute_reply": "2022-10-14T08:53:24.416658Z",
     "shell.execute_reply.started": "2022-10-14T08:53:24.408532Z"
    }
   },
   "outputs": [],
   "source": [
    "#Let's see if family size affects survival rates\n",
    "test_data[\"familysize\"] = test_data[\"sibsp\"] + test_data[\"parch\"] + 1"
   ]
  },
  {
   "cell_type": "code",
   "execution_count": 47,
   "metadata": {
    "execution": {
     "iopub.execute_input": "2022-10-14T08:53:24.421464Z",
     "iopub.status.busy": "2022-10-14T08:53:24.421157Z",
     "iopub.status.idle": "2022-10-14T08:53:24.433486Z",
     "shell.execute_reply": "2022-10-14T08:53:24.432515Z",
     "shell.execute_reply.started": "2022-10-14T08:53:24.421427Z"
    }
   },
   "outputs": [],
   "source": [
    "#I will factorise sex (male = 0, female = 1)\n",
    "test_data['sex_f'] = pd.factorize(test_data['sex'])[0]"
   ]
  },
  {
   "cell_type": "code",
   "execution_count": 48,
   "metadata": {
    "execution": {
     "iopub.execute_input": "2022-10-14T08:53:24.435687Z",
     "iopub.status.busy": "2022-10-14T08:53:24.435333Z",
     "iopub.status.idle": "2022-10-14T08:53:24.462360Z",
     "shell.execute_reply": "2022-10-14T08:53:24.461690Z",
     "shell.execute_reply.started": "2022-10-14T08:53:24.435641Z"
    }
   },
   "outputs": [
    {
     "data": {
      "text/html": [
       "<div>\n",
       "<style scoped>\n",
       "    .dataframe tbody tr th:only-of-type {\n",
       "        vertical-align: middle;\n",
       "    }\n",
       "\n",
       "    .dataframe tbody tr th {\n",
       "        vertical-align: top;\n",
       "    }\n",
       "\n",
       "    .dataframe thead th {\n",
       "        text-align: right;\n",
       "    }\n",
       "</style>\n",
       "<table border=\"1\" class=\"dataframe\">\n",
       "  <thead>\n",
       "    <tr style=\"text-align: right;\">\n",
       "      <th></th>\n",
       "      <th>embarked</th>\n",
       "      <th>embarked_f</th>\n",
       "    </tr>\n",
       "  </thead>\n",
       "  <tbody>\n",
       "    <tr>\n",
       "      <th>0</th>\n",
       "      <td>Q</td>\n",
       "      <td>0</td>\n",
       "    </tr>\n",
       "    <tr>\n",
       "      <th>1</th>\n",
       "      <td>S</td>\n",
       "      <td>1</td>\n",
       "    </tr>\n",
       "    <tr>\n",
       "      <th>2</th>\n",
       "      <td>Q</td>\n",
       "      <td>0</td>\n",
       "    </tr>\n",
       "    <tr>\n",
       "      <th>3</th>\n",
       "      <td>S</td>\n",
       "      <td>1</td>\n",
       "    </tr>\n",
       "    <tr>\n",
       "      <th>4</th>\n",
       "      <td>S</td>\n",
       "      <td>1</td>\n",
       "    </tr>\n",
       "    <tr>\n",
       "      <th>...</th>\n",
       "      <td>...</td>\n",
       "      <td>...</td>\n",
       "    </tr>\n",
       "    <tr>\n",
       "      <th>413</th>\n",
       "      <td>S</td>\n",
       "      <td>1</td>\n",
       "    </tr>\n",
       "    <tr>\n",
       "      <th>414</th>\n",
       "      <td>C</td>\n",
       "      <td>2</td>\n",
       "    </tr>\n",
       "    <tr>\n",
       "      <th>415</th>\n",
       "      <td>S</td>\n",
       "      <td>1</td>\n",
       "    </tr>\n",
       "    <tr>\n",
       "      <th>416</th>\n",
       "      <td>S</td>\n",
       "      <td>1</td>\n",
       "    </tr>\n",
       "    <tr>\n",
       "      <th>417</th>\n",
       "      <td>C</td>\n",
       "      <td>2</td>\n",
       "    </tr>\n",
       "  </tbody>\n",
       "</table>\n",
       "<p>418 rows × 2 columns</p>\n",
       "</div>"
      ],
      "text/plain": [
       "    embarked  embarked_f\n",
       "0          Q           0\n",
       "1          S           1\n",
       "2          Q           0\n",
       "3          S           1\n",
       "4          S           1\n",
       "..       ...         ...\n",
       "413        S           1\n",
       "414        C           2\n",
       "415        S           1\n",
       "416        S           1\n",
       "417        C           2\n",
       "\n",
       "[418 rows x 2 columns]"
      ]
     },
     "execution_count": 48,
     "metadata": {},
     "output_type": "execute_result"
    }
   ],
   "source": [
    "#I will factorise port of embarkation (S = 0, C = 1, Q = 2)\n",
    "test_data['embarked_f'] = pd.factorize(test_data['embarked'])[0]\n",
    "test_data[['embarked', 'embarked_f']]"
   ]
  },
  {
   "cell_type": "code",
   "execution_count": 49,
   "metadata": {
    "execution": {
     "iopub.execute_input": "2022-10-14T08:53:24.464291Z",
     "iopub.status.busy": "2022-10-14T08:53:24.463350Z",
     "iopub.status.idle": "2022-10-14T08:53:24.473980Z",
     "shell.execute_reply": "2022-10-14T08:53:24.472677Z",
     "shell.execute_reply.started": "2022-10-14T08:53:24.464256Z"
    }
   },
   "outputs": [
    {
     "data": {
      "text/plain": [
       "passengerid      0\n",
       "pclass           0\n",
       "name             0\n",
       "sex              0\n",
       "age              0\n",
       "sibsp            0\n",
       "parch            0\n",
       "ticket           0\n",
       "fare             0\n",
       "cabin          327\n",
       "embarked         0\n",
       "familysize       0\n",
       "sex_f            0\n",
       "embarked_f       0\n",
       "dtype: int64"
      ]
     },
     "execution_count": 49,
     "metadata": {},
     "output_type": "execute_result"
    }
   ],
   "source": [
    "test_data.isna().sum()"
   ]
  },
  {
   "cell_type": "code",
   "execution_count": 50,
   "metadata": {
    "execution": {
     "iopub.execute_input": "2022-10-14T08:53:24.476289Z",
     "iopub.status.busy": "2022-10-14T08:53:24.475552Z",
     "iopub.status.idle": "2022-10-14T08:53:24.481515Z",
     "shell.execute_reply": "2022-10-14T08:53:24.480863Z",
     "shell.execute_reply.started": "2022-10-14T08:53:24.476251Z"
    }
   },
   "outputs": [],
   "source": [
    "#y is true data (Y_true) the survivors from the original file, we will try and predict Y_new\n",
    "X_test = test_data[['pclass','age', 'sibsp', 'parch', 'fare', 'familysize', 'sex_f', 'embarked_f']]"
   ]
  },
  {
   "cell_type": "code",
   "execution_count": 51,
   "metadata": {
    "execution": {
     "iopub.execute_input": "2022-10-14T08:53:24.483001Z",
     "iopub.status.busy": "2022-10-14T08:53:24.482667Z",
     "iopub.status.idle": "2022-10-14T08:53:24.510633Z",
     "shell.execute_reply": "2022-10-14T08:53:24.509712Z",
     "shell.execute_reply.started": "2022-10-14T08:53:24.482903Z"
    }
   },
   "outputs": [],
   "source": [
    "#predictions on real data\n",
    "y_pred = rfc.predict(X_test)"
   ]
  },
  {
   "cell_type": "code",
   "execution_count": 52,
   "metadata": {
    "execution": {
     "iopub.execute_input": "2022-10-14T08:53:24.512214Z",
     "iopub.status.busy": "2022-10-14T08:53:24.511987Z",
     "iopub.status.idle": "2022-10-14T08:53:24.520445Z",
     "shell.execute_reply": "2022-10-14T08:53:24.519723Z",
     "shell.execute_reply.started": "2022-10-14T08:53:24.512186Z"
    }
   },
   "outputs": [
    {
     "name": "stdout",
     "output_type": "stream",
     "text": [
      "Your submission was successfully saved!\n"
     ]
    }
   ],
   "source": [
    "output = pd.DataFrame({'PassengerId': test_data.passengerid, 'Survived': y_pred})\n",
    "output.to_csv('submission_14_Oct_rfc.csv', index=False)\n",
    "print(\"Your submission was successfully saved!\")"
   ]
  }
 ],
 "metadata": {
  "hide_input": false,
  "kernelspec": {
   "display_name": "Python 3 (ipykernel)",
   "language": "python",
   "name": "python3"
  },
  "language_info": {
   "codemirror_mode": {
    "name": "ipython",
    "version": 3
   },
   "file_extension": ".py",
   "mimetype": "text/x-python",
   "name": "python",
   "nbconvert_exporter": "python",
   "pygments_lexer": "ipython3",
   "version": "3.9.10"
  },
  "toc": {
   "base_numbering": 1,
   "nav_menu": {},
   "number_sections": true,
   "sideBar": true,
   "skip_h1_title": false,
   "title_cell": "Table of Contents",
   "title_sidebar": "Contents",
   "toc_cell": false,
   "toc_position": {},
   "toc_section_display": true,
   "toc_window_display": false
  }
 },
 "nbformat": 4,
 "nbformat_minor": 4
}
