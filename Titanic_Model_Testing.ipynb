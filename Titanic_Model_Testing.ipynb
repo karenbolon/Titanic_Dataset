{
 "cells": [
  {
   "cell_type": "markdown",
   "id": "1c73430d",
   "metadata": {
    "heading_collapsed": true
   },
   "source": [
    "# Goal"
   ]
  },
  {
   "cell_type": "markdown",
   "id": "9d749429",
   "metadata": {
    "hidden": true
   },
   "source": [
    "Train a model that is as accurate as possible to predict the survival rates of passengers."
   ]
  },
  {
   "cell_type": "markdown",
   "id": "5a10fd10",
   "metadata": {
    "heading_collapsed": true
   },
   "source": [
    "# Import Libraries and Data"
   ]
  },
  {
   "cell_type": "code",
   "execution_count": 1,
   "id": "d0186de9",
   "metadata": {
    "hidden": true
   },
   "outputs": [],
   "source": [
    "import pandas as pd\n",
    "import seaborn as sns\n",
    "import numpy as np\n",
    "import matplotlib.pyplot as plt\n",
    "%matplotlib inline\n",
    "\n",
    "from sklearn.model_selection import train_test_split\n",
    "from sklearn.linear_model import LogisticRegression\n",
    "from sklearn.model_selection import cross_val_score \n",
    "\n",
    "from sklearn.ensemble import RandomForestClassifier \n",
    "from sklearn.metrics import precision_score, recall_score, f1_score\n",
    "from sklearn.metrics import confusion_matrix, ConfusionMatrixDisplay\n",
    "\n",
    "from sklearn.pipeline import make_pipeline\n",
    "from sklearn.preprocessing import StandardScaler\n",
    "from sklearn.svm import SVC"
   ]
  },
  {
   "cell_type": "code",
   "execution_count": 2,
   "id": "e70dfdc0",
   "metadata": {
    "hidden": true
   },
   "outputs": [
    {
     "data": {
      "text/html": [
       "<div>\n",
       "<style scoped>\n",
       "    .dataframe tbody tr th:only-of-type {\n",
       "        vertical-align: middle;\n",
       "    }\n",
       "\n",
       "    .dataframe tbody tr th {\n",
       "        vertical-align: top;\n",
       "    }\n",
       "\n",
       "    .dataframe thead th {\n",
       "        text-align: right;\n",
       "    }\n",
       "</style>\n",
       "<table border=\"1\" class=\"dataframe\">\n",
       "  <thead>\n",
       "    <tr style=\"text-align: right;\">\n",
       "      <th></th>\n",
       "      <th>passengerid</th>\n",
       "      <th>survived</th>\n",
       "      <th>pclass</th>\n",
       "      <th>name</th>\n",
       "      <th>sex</th>\n",
       "      <th>age</th>\n",
       "      <th>sibsp</th>\n",
       "      <th>parch</th>\n",
       "      <th>ticket</th>\n",
       "      <th>fare</th>\n",
       "      <th>cabin</th>\n",
       "      <th>embarked</th>\n",
       "    </tr>\n",
       "  </thead>\n",
       "  <tbody>\n",
       "    <tr>\n",
       "      <th>0</th>\n",
       "      <td>1</td>\n",
       "      <td>0</td>\n",
       "      <td>3</td>\n",
       "      <td>Braund, Mr. Owen Harris</td>\n",
       "      <td>male</td>\n",
       "      <td>22.0</td>\n",
       "      <td>1</td>\n",
       "      <td>0</td>\n",
       "      <td>A/5 21171</td>\n",
       "      <td>7.2500</td>\n",
       "      <td>NaN</td>\n",
       "      <td>S</td>\n",
       "    </tr>\n",
       "    <tr>\n",
       "      <th>1</th>\n",
       "      <td>2</td>\n",
       "      <td>1</td>\n",
       "      <td>1</td>\n",
       "      <td>Cumings, Mrs. John Bradley (Florence Briggs Th...</td>\n",
       "      <td>female</td>\n",
       "      <td>38.0</td>\n",
       "      <td>1</td>\n",
       "      <td>0</td>\n",
       "      <td>PC 17599</td>\n",
       "      <td>71.2833</td>\n",
       "      <td>C85</td>\n",
       "      <td>C</td>\n",
       "    </tr>\n",
       "  </tbody>\n",
       "</table>\n",
       "</div>"
      ],
      "text/plain": [
       "   passengerid  survived  pclass  \\\n",
       "0            1         0       3   \n",
       "1            2         1       1   \n",
       "\n",
       "                                                name     sex   age  sibsp  \\\n",
       "0                            Braund, Mr. Owen Harris    male  22.0      1   \n",
       "1  Cumings, Mrs. John Bradley (Florence Briggs Th...  female  38.0      1   \n",
       "\n",
       "   parch     ticket     fare cabin embarked  \n",
       "0      0  A/5 21171   7.2500   NaN        S  \n",
       "1      0   PC 17599  71.2833   C85        C  "
      ]
     },
     "execution_count": 2,
     "metadata": {},
     "output_type": "execute_result"
    }
   ],
   "source": [
    "titanic_train = pd.read_csv('data/train.csv')\n",
    "titanic_train.columns = titanic_train.columns.str.lower()\n",
    "titanic_train.head(2)"
   ]
  },
  {
   "cell_type": "markdown",
   "id": "4aca0bee",
   "metadata": {
    "hidden": true
   },
   "source": [
    "- survival: Survival (0 = No; 1 = Yes)\n",
    "- pclass: Passenger Class (1 = 1st; 2 = 2nd; 3 = 3rd)\n",
    "- name: Name\n",
    "- sex: Sex\n",
    "- age: Age\n",
    "- sibsp: Number of Siblings/Spouses Aboard\n",
    "- parch: Number of Parents/Children Aboard\n",
    "- ticket: Ticket Number\n",
    "- fare: Passenger Fare\n",
    "- cabin: Cabin\n",
    "- embarked: Port of Embarkation (C = Cherbourg; Q = Queenstown; S = Southampton)"
   ]
  },
  {
   "cell_type": "markdown",
   "id": "7b9b0a01",
   "metadata": {
    "heading_collapsed": true,
    "hidden": true
   },
   "source": [
    "## Quick Analysis"
   ]
  },
  {
   "cell_type": "markdown",
   "id": "8aba3fd8",
   "metadata": {
    "hidden": true
   },
   "source": [
    "The training dataset includes information regarding, passenger ID, survived, class, name, sex, age, siblings/spouses on board, Parents with children on board, ticket #, fare paid, cabin #, and where they embarked.  \n",
    "\n",
    "I believe that Class, sex, age, siblings/spouse, cabin and where they embarked will affect the survival rates for these reasons:\n",
    "- class: better access to information and lifeboats, \n",
    "- sex: more females survived than males (bias), \n",
    "- age: as the younger you are the harder you will struggle to survive and also be placed on a lifeboat, \n",
    "- siblings/spouse: those that travel together would look after each other, and \n",
    "- cabin: perhaps the location affects access to lifeboats\n",
    "- embarkation: possible socio-economic reasons or length of trip depends what cabin is purchased?\n",
    "\n",
    "I will see through Exploratory Data Analysis (EDA) whether my initial estimates hold any merit or if other correlations emerge."
   ]
  },
  {
   "cell_type": "markdown",
   "id": "2ab178fa",
   "metadata": {
    "heading_collapsed": true
   },
   "source": [
    "# Exploratory Data Analysis (EDA)"
   ]
  },
  {
   "cell_type": "code",
   "execution_count": 3,
   "id": "ed63b764",
   "metadata": {
    "hidden": true
   },
   "outputs": [
    {
     "data": {
      "text/html": [
       "<div>\n",
       "<style scoped>\n",
       "    .dataframe tbody tr th:only-of-type {\n",
       "        vertical-align: middle;\n",
       "    }\n",
       "\n",
       "    .dataframe tbody tr th {\n",
       "        vertical-align: top;\n",
       "    }\n",
       "\n",
       "    .dataframe thead th {\n",
       "        text-align: right;\n",
       "    }\n",
       "</style>\n",
       "<table border=\"1\" class=\"dataframe\">\n",
       "  <thead>\n",
       "    <tr style=\"text-align: right;\">\n",
       "      <th></th>\n",
       "      <th>passengerid</th>\n",
       "      <th>pclass</th>\n",
       "      <th>name</th>\n",
       "      <th>sex</th>\n",
       "      <th>age</th>\n",
       "      <th>sibsp</th>\n",
       "      <th>parch</th>\n",
       "      <th>ticket</th>\n",
       "      <th>fare</th>\n",
       "      <th>cabin</th>\n",
       "      <th>embarked</th>\n",
       "    </tr>\n",
       "    <tr>\n",
       "      <th>survived</th>\n",
       "      <th></th>\n",
       "      <th></th>\n",
       "      <th></th>\n",
       "      <th></th>\n",
       "      <th></th>\n",
       "      <th></th>\n",
       "      <th></th>\n",
       "      <th></th>\n",
       "      <th></th>\n",
       "      <th></th>\n",
       "      <th></th>\n",
       "    </tr>\n",
       "  </thead>\n",
       "  <tbody>\n",
       "    <tr>\n",
       "      <th>0</th>\n",
       "      <td>549</td>\n",
       "      <td>549</td>\n",
       "      <td>549</td>\n",
       "      <td>549</td>\n",
       "      <td>424</td>\n",
       "      <td>549</td>\n",
       "      <td>549</td>\n",
       "      <td>549</td>\n",
       "      <td>549</td>\n",
       "      <td>68</td>\n",
       "      <td>549</td>\n",
       "    </tr>\n",
       "    <tr>\n",
       "      <th>1</th>\n",
       "      <td>342</td>\n",
       "      <td>342</td>\n",
       "      <td>342</td>\n",
       "      <td>342</td>\n",
       "      <td>290</td>\n",
       "      <td>342</td>\n",
       "      <td>342</td>\n",
       "      <td>342</td>\n",
       "      <td>342</td>\n",
       "      <td>136</td>\n",
       "      <td>340</td>\n",
       "    </tr>\n",
       "  </tbody>\n",
       "</table>\n",
       "</div>"
      ],
      "text/plain": [
       "          passengerid  pclass  name  sex  age  sibsp  parch  ticket  fare  \\\n",
       "survived                                                                    \n",
       "0                 549     549   549  549  424    549    549     549   549   \n",
       "1                 342     342   342  342  290    342    342     342   342   \n",
       "\n",
       "          cabin  embarked  \n",
       "survived                   \n",
       "0            68       549  \n",
       "1           136       340  "
      ]
     },
     "execution_count": 3,
     "metadata": {},
     "output_type": "execute_result"
    }
   ],
   "source": [
    "survived=titanic_train.groupby('survived').count()\n",
    "survived"
   ]
  },
  {
   "cell_type": "code",
   "execution_count": 4,
   "id": "842825b4",
   "metadata": {
    "hidden": true
   },
   "outputs": [
    {
     "data": {
      "text/plain": [
       "Text(0.5, 0, 'Survived (0 = Dead,1 = Survived)')"
      ]
     },
     "execution_count": 4,
     "metadata": {},
     "output_type": "execute_result"
    },
    {
     "data": {
      "image/png": "[encoded data removed]",
      "text/plain": [
       "<Figure size 432x288 with 1 Axes>"
      ]
     },
     "metadata": {
      "needs_background": "light"
     },
     "output_type": "display_data"
    }
   ],
   "source": [
    "sns.countplot(data=titanic_train, x ='survived', hue = 'sex')\n",
    "plt.xlabel('Survived (0 = Dead,1 = Survived)' )\n"
   ]
  },
  {
   "cell_type": "code",
   "execution_count": 5,
   "id": "7c1a6133",
   "metadata": {
    "hidden": true
   },
   "outputs": [
    {
     "data": {
      "text/plain": [
       "Text(0.5, 0, 'Survived (0 = Dead,1 = Survived)')"
      ]
     },
     "execution_count": 5,
     "metadata": {},
     "output_type": "execute_result"
    },
    {
     "data": {
      "image/png": "[encoded data removed]",
      "text/plain": [
       "<Figure size 432x288 with 1 Axes>"
      ]
     },
     "metadata": {
      "needs_background": "light"
     },
     "output_type": "display_data"
    }
   ],
   "source": [
    "sns.countplot(x=\"survived\",\n",
    "              hue=\"pclass\",\n",
    "              data=titanic_train)\n",
    "plt.xlabel('Survived (0 = Dead,1 = Survived)' )"
   ]
  },
  {
   "cell_type": "code",
   "execution_count": 6,
   "id": "38779458",
   "metadata": {
    "hidden": true
   },
   "outputs": [
    {
     "data": {
      "text/html": [
       "<div>\n",
       "<style scoped>\n",
       "    .dataframe tbody tr th:only-of-type {\n",
       "        vertical-align: middle;\n",
       "    }\n",
       "\n",
       "    .dataframe tbody tr th {\n",
       "        vertical-align: top;\n",
       "    }\n",
       "\n",
       "    .dataframe thead th {\n",
       "        text-align: right;\n",
       "    }\n",
       "</style>\n",
       "<table border=\"1\" class=\"dataframe\">\n",
       "  <thead>\n",
       "    <tr style=\"text-align: right;\">\n",
       "      <th></th>\n",
       "      <th>passengerid</th>\n",
       "      <th>survived</th>\n",
       "      <th>pclass</th>\n",
       "      <th>age</th>\n",
       "      <th>sibsp</th>\n",
       "      <th>parch</th>\n",
       "      <th>fare</th>\n",
       "    </tr>\n",
       "  </thead>\n",
       "  <tbody>\n",
       "    <tr>\n",
       "      <th>passengerid</th>\n",
       "      <td>1.000000</td>\n",
       "      <td>-0.005007</td>\n",
       "      <td>-0.035144</td>\n",
       "      <td>0.036847</td>\n",
       "      <td>-0.057527</td>\n",
       "      <td>-0.001652</td>\n",
       "      <td>0.012658</td>\n",
       "    </tr>\n",
       "    <tr>\n",
       "      <th>survived</th>\n",
       "      <td>-0.005007</td>\n",
       "      <td>1.000000</td>\n",
       "      <td>-0.338481</td>\n",
       "      <td>-0.077221</td>\n",
       "      <td>-0.035322</td>\n",
       "      <td>0.081629</td>\n",
       "      <td>0.257307</td>\n",
       "    </tr>\n",
       "    <tr>\n",
       "      <th>pclass</th>\n",
       "      <td>-0.035144</td>\n",
       "      <td>-0.338481</td>\n",
       "      <td>1.000000</td>\n",
       "      <td>-0.369226</td>\n",
       "      <td>0.083081</td>\n",
       "      <td>0.018443</td>\n",
       "      <td>-0.549500</td>\n",
       "    </tr>\n",
       "    <tr>\n",
       "      <th>age</th>\n",
       "      <td>0.036847</td>\n",
       "      <td>-0.077221</td>\n",
       "      <td>-0.369226</td>\n",
       "      <td>1.000000</td>\n",
       "      <td>-0.308247</td>\n",
       "      <td>-0.189119</td>\n",
       "      <td>0.096067</td>\n",
       "    </tr>\n",
       "    <tr>\n",
       "      <th>sibsp</th>\n",
       "      <td>-0.057527</td>\n",
       "      <td>-0.035322</td>\n",
       "      <td>0.083081</td>\n",
       "      <td>-0.308247</td>\n",
       "      <td>1.000000</td>\n",
       "      <td>0.414838</td>\n",
       "      <td>0.159651</td>\n",
       "    </tr>\n",
       "    <tr>\n",
       "      <th>parch</th>\n",
       "      <td>-0.001652</td>\n",
       "      <td>0.081629</td>\n",
       "      <td>0.018443</td>\n",
       "      <td>-0.189119</td>\n",
       "      <td>0.414838</td>\n",
       "      <td>1.000000</td>\n",
       "      <td>0.216225</td>\n",
       "    </tr>\n",
       "    <tr>\n",
       "      <th>fare</th>\n",
       "      <td>0.012658</td>\n",
       "      <td>0.257307</td>\n",
       "      <td>-0.549500</td>\n",
       "      <td>0.096067</td>\n",
       "      <td>0.159651</td>\n",
       "      <td>0.216225</td>\n",
       "      <td>1.000000</td>\n",
       "    </tr>\n",
       "  </tbody>\n",
       "</table>\n",
       "</div>"
      ],
      "text/plain": [
       "             passengerid  survived    pclass       age     sibsp     parch  \\\n",
       "passengerid     1.000000 -0.005007 -0.035144  0.036847 -0.057527 -0.001652   \n",
       "survived       -0.005007  1.000000 -0.338481 -0.077221 -0.035322  0.081629   \n",
       "pclass         -0.035144 -0.338481  1.000000 -0.369226  0.083081  0.018443   \n",
       "age             0.036847 -0.077221 -0.369226  1.000000 -0.308247 -0.189119   \n",
       "sibsp          -0.057527 -0.035322  0.083081 -0.308247  1.000000  0.414838   \n",
       "parch          -0.001652  0.081629  0.018443 -0.189119  0.414838  1.000000   \n",
       "fare            0.012658  0.257307 -0.549500  0.096067  0.159651  0.216225   \n",
       "\n",
       "                 fare  \n",
       "passengerid  0.012658  \n",
       "survived     0.257307  \n",
       "pclass      -0.549500  \n",
       "age          0.096067  \n",
       "sibsp        0.159651  \n",
       "parch        0.216225  \n",
       "fare         1.000000  "
      ]
     },
     "execution_count": 6,
     "metadata": {},
     "output_type": "execute_result"
    }
   ],
   "source": [
    "titanic_train.corr()"
   ]
  },
  {
   "cell_type": "code",
   "execution_count": 7,
   "id": "4ec84d9e",
   "metadata": {
    "hidden": true
   },
   "outputs": [
    {
     "data": {
      "image/png": "[encoded data removed]",
      "text/plain": [
       "<Figure size 432x288 with 2 Axes>"
      ]
     },
     "metadata": {
      "needs_background": "light"
     },
     "output_type": "display_data"
    }
   ],
   "source": [
    "#This is a heatmap of the above information that makes it easier to see the features\n",
    "#that correlate with each other (if any).\n",
    "sns.heatmap(titanic_train.corr(), annot=True)\n",
    "plt.show()"
   ]
  },
  {
   "cell_type": "markdown",
   "id": "e8fda042",
   "metadata": {
    "hidden": true
   },
   "source": [
    "With the above heatmap, it is easy to see the features with the strongest positive correlations (orange) and the features with the strongest negative correlations (black). \n",
    "\n",
    "We can conclude that there are strong positive correlations between SibSp and Parch—and that makes sense because children often have siblings, and parents and children often travel together. We can also see that Pclass and Fare are strongly negatively correlated—that makes sense because 1st class tickets are more expensive than lower class tickets, meaning as class goes down (closer to 1) the fare goes up. Finally Age and Pclass are moderately negatively correlated—since richer people are generally older."
   ]
  },
  {
   "cell_type": "code",
   "execution_count": 8,
   "id": "883a5de1",
   "metadata": {
    "hidden": true,
    "scrolled": true
   },
   "outputs": [
    {
     "data": {
      "text/plain": [
       "female    0.543351\n",
       "male     -0.543351\n",
       "dtype: float64"
      ]
     },
     "execution_count": 8,
     "metadata": {},
     "output_type": "execute_result"
    }
   ],
   "source": [
    "#Sex was not included in the above correlation as it is a string.  \n",
    "#We can use .get_dummies().  This converts a categorical variable into \n",
    "#dummy (binary) variables\n",
    "\n",
    "titanic_train['sex'].str.get_dummies().corrwith(titanic_train['survived']/titanic_train['survived'].max())"
   ]
  },
  {
   "cell_type": "markdown",
   "id": "af90b4f0",
   "metadata": {
    "hidden": true
   },
   "source": [
    "This indicates that being male was strongly negatively correlated with the survival rate and the opposite for women."
   ]
  },
  {
   "cell_type": "code",
   "execution_count": 9,
   "id": "837a57aa",
   "metadata": {
    "hidden": true
   },
   "outputs": [
    {
     "data": {
      "text/plain": [
       "<AxesSubplot:xlabel='familysize', ylabel='survived'>"
      ]
     },
     "execution_count": 9,
     "metadata": {},
     "output_type": "execute_result"
    },
    {
     "data": {
      "image/png": "[encoded data removed]",
      "text/plain": [
       "<Figure size 432x288 with 1 Axes>"
      ]
     },
     "metadata": {
      "needs_background": "light"
     },
     "output_type": "display_data"
    }
   ],
   "source": [
    "#Let's see if family size affects survival rates\n",
    "titanic_train[\"familysize\"] = titanic_train[\"sibsp\"] + titanic_train[\"parch\"] + 1\n",
    "\n",
    "sns.barplot(x = \"familysize\", y =\"survived\", data = titanic_train)"
   ]
  },
  {
   "cell_type": "code",
   "execution_count": 10,
   "id": "723a5de1",
   "metadata": {
    "hidden": true
   },
   "outputs": [
    {
     "data": {
      "text/plain": [
       "<AxesSubplot:title={'center':'Survived by family size'}, xlabel='familysize'>"
      ]
     },
     "execution_count": 10,
     "metadata": {},
     "output_type": "execute_result"
    },
    {
     "data": {
      "image/png": "[encoded data removed]",
      "text/plain": [
       "<Figure size 432x288 with 1 Axes>"
      ]
     },
     "metadata": {
      "needs_background": "light"
     },
     "output_type": "display_data"
    }
   ],
   "source": [
    "pd.crosstab(titanic_train['familysize'], titanic_train['survived']).plot(kind='bar', stacked=True, title=\"Survived by family size\")"
   ]
  },
  {
   "cell_type": "markdown",
   "id": "e362cd31",
   "metadata": {
    "hidden": true
   },
   "source": [
    "It appears that family sized did affect the survival rates at least up to a family size of 4.  Then it appears negligable.  I will use this in my analysis."
   ]
  },
  {
   "cell_type": "markdown",
   "id": "be9961e2",
   "metadata": {
    "heading_collapsed": true
   },
   "source": [
    "# Data Cleanup"
   ]
  },
  {
   "cell_type": "code",
   "execution_count": 11,
   "id": "82d6e29b",
   "metadata": {
    "hidden": true
   },
   "outputs": [
    {
     "data": {
      "text/plain": [
       "Text(0.5, 1.0, 'Missing values heatmap')"
      ]
     },
     "execution_count": 11,
     "metadata": {},
     "output_type": "execute_result"
    },
    {
     "data": {
      "image/png": "[encoded data removed]",
      "text/plain": [
       "<Figure size 432x288 with 1 Axes>"
      ]
     },
     "metadata": {
      "needs_background": "light"
     },
     "output_type": "display_data"
    }
   ],
   "source": [
    "sns.heatmap(titanic_train.isnull(), cbar = False).set_title(\"Missing values heatmap\")"
   ]
  },
  {
   "cell_type": "code",
   "execution_count": 12,
   "id": "edf764fb",
   "metadata": {
    "hidden": true
   },
   "outputs": [
    {
     "data": {
      "text/plain": [
       "passengerid      0\n",
       "survived         0\n",
       "pclass           0\n",
       "name             0\n",
       "sex              0\n",
       "age            177\n",
       "sibsp            0\n",
       "parch            0\n",
       "ticket           0\n",
       "fare             0\n",
       "cabin          687\n",
       "embarked         2\n",
       "familysize       0\n",
       "dtype: int64"
      ]
     },
     "execution_count": 12,
     "metadata": {},
     "output_type": "execute_result"
    }
   ],
   "source": [
    "# number of null values in dataset\n",
    "titanic_train.isnull().sum() "
   ]
  },
  {
   "cell_type": "markdown",
   "id": "34ad0c58",
   "metadata": {
    "hidden": true
   },
   "source": [
    "We can see from the above listing that there is 177 missing values in age.  I believe age is an important factor in survival because those that were able to fend for themselves (not elderly or a small child) would stand a better chance of surviving.  I will try and find the mean age by sex and class to substitute the missing values.\n",
    "\n",
    "There are too many missing values in the cabin column and I will exclude this column from my analysis. \n",
    "\n",
    "There are 2 missing entries on embarked. I will see if it is easy to establish where they embarked.  If not, I will exclude them from the analysis."
   ]
  },
  {
   "cell_type": "markdown",
   "id": "d078959e",
   "metadata": {
    "hidden": true
   },
   "source": [
    "Dealing with missing values:\n",
    "-  Drop data (whole row or column), or\n",
    "-  Replace data"
   ]
  },
  {
   "cell_type": "code",
   "execution_count": 13,
   "id": "b41db088",
   "metadata": {
    "hidden": true
   },
   "outputs": [
    {
     "data": {
      "text/plain": [
       "0"
      ]
     },
     "execution_count": 13,
     "metadata": {},
     "output_type": "execute_result"
    }
   ],
   "source": [
    "#Check for duplicated passenger info.  There isn't any to deal with.\n",
    "duplications = titanic_train.duplicated().sum()\n",
    "duplications"
   ]
  },
  {
   "cell_type": "code",
   "execution_count": 14,
   "id": "2c38114c",
   "metadata": {
    "hidden": true
   },
   "outputs": [
    {
     "data": {
      "text/html": [
       "<div>\n",
       "<style scoped>\n",
       "    .dataframe tbody tr th:only-of-type {\n",
       "        vertical-align: middle;\n",
       "    }\n",
       "\n",
       "    .dataframe tbody tr th {\n",
       "        vertical-align: top;\n",
       "    }\n",
       "\n",
       "    .dataframe thead th {\n",
       "        text-align: right;\n",
       "    }\n",
       "</style>\n",
       "<table border=\"1\" class=\"dataframe\">\n",
       "  <thead>\n",
       "    <tr style=\"text-align: right;\">\n",
       "      <th></th>\n",
       "      <th>passengerid</th>\n",
       "      <th>survived</th>\n",
       "      <th>pclass</th>\n",
       "      <th>name</th>\n",
       "      <th>sex</th>\n",
       "      <th>age</th>\n",
       "      <th>sibsp</th>\n",
       "      <th>parch</th>\n",
       "      <th>ticket</th>\n",
       "      <th>fare</th>\n",
       "      <th>cabin</th>\n",
       "      <th>embarked</th>\n",
       "      <th>familysize</th>\n",
       "    </tr>\n",
       "  </thead>\n",
       "  <tbody>\n",
       "    <tr>\n",
       "      <th>0</th>\n",
       "      <td>1</td>\n",
       "      <td>0</td>\n",
       "      <td>3</td>\n",
       "      <td>Braund, Mr. Owen Harris</td>\n",
       "      <td>male</td>\n",
       "      <td>22.0</td>\n",
       "      <td>1</td>\n",
       "      <td>0</td>\n",
       "      <td>A/5 21171</td>\n",
       "      <td>7.2500</td>\n",
       "      <td>NaN</td>\n",
       "      <td>S</td>\n",
       "      <td>2</td>\n",
       "    </tr>\n",
       "    <tr>\n",
       "      <th>1</th>\n",
       "      <td>2</td>\n",
       "      <td>1</td>\n",
       "      <td>1</td>\n",
       "      <td>Cumings, Mrs. John Bradley (Florence Briggs Th...</td>\n",
       "      <td>female</td>\n",
       "      <td>38.0</td>\n",
       "      <td>1</td>\n",
       "      <td>0</td>\n",
       "      <td>PC 17599</td>\n",
       "      <td>71.2833</td>\n",
       "      <td>C85</td>\n",
       "      <td>C</td>\n",
       "      <td>2</td>\n",
       "    </tr>\n",
       "  </tbody>\n",
       "</table>\n",
       "</div>"
      ],
      "text/plain": [
       "   passengerid  survived  pclass  \\\n",
       "0            1         0       3   \n",
       "1            2         1       1   \n",
       "\n",
       "                                                name     sex   age  sibsp  \\\n",
       "0                            Braund, Mr. Owen Harris    male  22.0      1   \n",
       "1  Cumings, Mrs. John Bradley (Florence Briggs Th...  female  38.0      1   \n",
       "\n",
       "   parch     ticket     fare cabin embarked  familysize  \n",
       "0      0  A/5 21171   7.2500   NaN        S           2  \n",
       "1      0   PC 17599  71.2833   C85        C           2  "
      ]
     },
     "execution_count": 14,
     "metadata": {},
     "output_type": "execute_result"
    }
   ],
   "source": [
    "titanic_train.head(2)"
   ]
  },
  {
   "cell_type": "code",
   "execution_count": 15,
   "id": "e3ceea26",
   "metadata": {
    "hidden": true
   },
   "outputs": [],
   "source": [
    "titanic_train['fare']=titanic_train['fare'].astype(int)"
   ]
  },
  {
   "cell_type": "code",
   "execution_count": 16,
   "id": "81906c02",
   "metadata": {
    "hidden": true,
    "scrolled": true
   },
   "outputs": [
    {
     "name": "stdout",
     "output_type": "stream",
     "text": [
      "<class 'pandas.core.frame.DataFrame'>\n",
      "RangeIndex: 891 entries, 0 to 890\n",
      "Data columns (total 13 columns):\n",
      " #   Column       Non-Null Count  Dtype  \n",
      "---  ------       --------------  -----  \n",
      " 0   passengerid  891 non-null    int64  \n",
      " 1   survived     891 non-null    int64  \n",
      " 2   pclass       891 non-null    int64  \n",
      " 3   name         891 non-null    object \n",
      " 4   sex          891 non-null    object \n",
      " 5   age          714 non-null    float64\n",
      " 6   sibsp        891 non-null    int64  \n",
      " 7   parch        891 non-null    int64  \n",
      " 8   ticket       891 non-null    object \n",
      " 9   fare         891 non-null    int64  \n",
      " 10  cabin        204 non-null    object \n",
      " 11  embarked     889 non-null    object \n",
      " 12  familysize   891 non-null    int64  \n",
      "dtypes: float64(1), int64(7), object(5)\n",
      "memory usage: 90.6+ KB\n"
     ]
    }
   ],
   "source": [
    "titanic_train.info()"
   ]
  },
  {
   "cell_type": "markdown",
   "id": "8465fb2e",
   "metadata": {
    "heading_collapsed": true
   },
   "source": [
    "# Data Engineering"
   ]
  },
  {
   "cell_type": "markdown",
   "id": "c5a97d8f",
   "metadata": {
    "heading_collapsed": true,
    "hidden": true
   },
   "source": [
    "## Fill in Missing Port of Embarkation Values"
   ]
  },
  {
   "cell_type": "code",
   "execution_count": 17,
   "id": "bdb745b5",
   "metadata": {
    "hidden": true
   },
   "outputs": [
    {
     "data": {
      "text/plain": [
       "S    644\n",
       "C    168\n",
       "Q     77\n",
       "Name: embarked, dtype: int64"
      ]
     },
     "execution_count": 17,
     "metadata": {},
     "output_type": "execute_result"
    }
   ],
   "source": [
    "titanic_train['embarked'].value_counts()"
   ]
  },
  {
   "cell_type": "code",
   "execution_count": 18,
   "id": "15125939",
   "metadata": {
    "hidden": true
   },
   "outputs": [
    {
     "data": {
      "text/html": [
       "<div>\n",
       "<style scoped>\n",
       "    .dataframe tbody tr th:only-of-type {\n",
       "        vertical-align: middle;\n",
       "    }\n",
       "\n",
       "    .dataframe tbody tr th {\n",
       "        vertical-align: top;\n",
       "    }\n",
       "\n",
       "    .dataframe thead th {\n",
       "        text-align: right;\n",
       "    }\n",
       "</style>\n",
       "<table border=\"1\" class=\"dataframe\">\n",
       "  <thead>\n",
       "    <tr style=\"text-align: right;\">\n",
       "      <th></th>\n",
       "      <th>passengerid</th>\n",
       "      <th>survived</th>\n",
       "      <th>pclass</th>\n",
       "      <th>name</th>\n",
       "      <th>sex</th>\n",
       "      <th>age</th>\n",
       "      <th>sibsp</th>\n",
       "      <th>parch</th>\n",
       "      <th>ticket</th>\n",
       "      <th>fare</th>\n",
       "      <th>cabin</th>\n",
       "      <th>embarked</th>\n",
       "      <th>familysize</th>\n",
       "    </tr>\n",
       "  </thead>\n",
       "  <tbody>\n",
       "    <tr>\n",
       "      <th>61</th>\n",
       "      <td>62</td>\n",
       "      <td>1</td>\n",
       "      <td>1</td>\n",
       "      <td>Icard, Miss. Amelie</td>\n",
       "      <td>female</td>\n",
       "      <td>38.0</td>\n",
       "      <td>0</td>\n",
       "      <td>0</td>\n",
       "      <td>113572</td>\n",
       "      <td>80</td>\n",
       "      <td>B28</td>\n",
       "      <td>NaN</td>\n",
       "      <td>1</td>\n",
       "    </tr>\n",
       "    <tr>\n",
       "      <th>829</th>\n",
       "      <td>830</td>\n",
       "      <td>1</td>\n",
       "      <td>1</td>\n",
       "      <td>Stone, Mrs. George Nelson (Martha Evelyn)</td>\n",
       "      <td>female</td>\n",
       "      <td>62.0</td>\n",
       "      <td>0</td>\n",
       "      <td>0</td>\n",
       "      <td>113572</td>\n",
       "      <td>80</td>\n",
       "      <td>B28</td>\n",
       "      <td>NaN</td>\n",
       "      <td>1</td>\n",
       "    </tr>\n",
       "  </tbody>\n",
       "</table>\n",
       "</div>"
      ],
      "text/plain": [
       "     passengerid  survived  pclass                                       name  \\\n",
       "61            62         1       1                        Icard, Miss. Amelie   \n",
       "829          830         1       1  Stone, Mrs. George Nelson (Martha Evelyn)   \n",
       "\n",
       "        sex   age  sibsp  parch  ticket  fare cabin embarked  familysize  \n",
       "61   female  38.0      0      0  113572    80   B28      NaN           1  \n",
       "829  female  62.0      0      0  113572    80   B28      NaN           1  "
      ]
     },
     "execution_count": 18,
     "metadata": {},
     "output_type": "execute_result"
    }
   ],
   "source": [
    "missing_embarked = titanic_train[pd.isnull(titanic_train.embarked)]\n",
    "missing_embarked"
   ]
  },
  {
   "cell_type": "code",
   "execution_count": 19,
   "id": "ce889136",
   "metadata": {
    "hidden": true
   },
   "outputs": [
    {
     "data": {
      "text/plain": [
       "embarked  pclass\n",
       "C         1         115.186047\n",
       "          2          24.857143\n",
       "          3          14.347826\n",
       "Q         1          90.000000\n",
       "          2          12.000000\n",
       "          3           9.666667\n",
       "S         1          98.583333\n",
       "          2          21.746269\n",
       "          3          18.147727\n",
       "Name: fare, dtype: float64"
      ]
     },
     "execution_count": 19,
     "metadata": {},
     "output_type": "execute_result"
    }
   ],
   "source": [
    "#the missing info belong to 2 females, I will ascertain the mean fare by class for\n",
    "#females only\n",
    "female_only = titanic_train[titanic_train['sex'] == 'female'].groupby\\\n",
    "    ([\"embarked\",\"pclass\"])[\"fare\"].mean()\n",
    "female_only"
   ]
  },
  {
   "cell_type": "markdown",
   "id": "3d1cfa62",
   "metadata": {
    "hidden": true
   },
   "source": [
    "The above data are the mean prices for females grouped by ports of embarkations.  As both passengers with missing embarkation information paid 80 and are in first class, I will insert Q as their embarkation port as all other first class fares are well above the 80 that was paid."
   ]
  },
  {
   "cell_type": "code",
   "execution_count": 20,
   "id": "07b61193",
   "metadata": {
    "hidden": true
   },
   "outputs": [],
   "source": [
    "titanic_train[\"embarked\"] = titanic_train[\"embarked\"].fillna(\"Q\")"
   ]
  },
  {
   "cell_type": "code",
   "execution_count": 21,
   "id": "1590767f",
   "metadata": {
    "hidden": true
   },
   "outputs": [
    {
     "name": "stdout",
     "output_type": "stream",
     "text": [
      "<class 'pandas.core.frame.DataFrame'>\n",
      "RangeIndex: 891 entries, 0 to 890\n",
      "Data columns (total 13 columns):\n",
      " #   Column       Non-Null Count  Dtype  \n",
      "---  ------       --------------  -----  \n",
      " 0   passengerid  891 non-null    int64  \n",
      " 1   survived     891 non-null    int64  \n",
      " 2   pclass       891 non-null    int64  \n",
      " 3   name         891 non-null    object \n",
      " 4   sex          891 non-null    object \n",
      " 5   age          714 non-null    float64\n",
      " 6   sibsp        891 non-null    int64  \n",
      " 7   parch        891 non-null    int64  \n",
      " 8   ticket       891 non-null    object \n",
      " 9   fare         891 non-null    int64  \n",
      " 10  cabin        204 non-null    object \n",
      " 11  embarked     891 non-null    object \n",
      " 12  familysize   891 non-null    int64  \n",
      "dtypes: float64(1), int64(7), object(5)\n",
      "memory usage: 90.6+ KB\n"
     ]
    }
   ],
   "source": [
    "titanic_train.info()"
   ]
  },
  {
   "cell_type": "markdown",
   "id": "a9e61763",
   "metadata": {
    "heading_collapsed": true,
    "hidden": true
   },
   "source": [
    "## Fill in Missing Age Values"
   ]
  },
  {
   "cell_type": "code",
   "execution_count": 22,
   "id": "231c8b05",
   "metadata": {
    "hidden": true
   },
   "outputs": [],
   "source": [
    "by_sex_class = titanic_train.groupby(['sex', 'pclass'])"
   ]
  },
  {
   "cell_type": "code",
   "execution_count": 23,
   "id": "2b5bf4f7",
   "metadata": {
    "hidden": true
   },
   "outputs": [],
   "source": [
    "def impute_median(series):\n",
    "    return series.fillna(series.median())"
   ]
  },
  {
   "cell_type": "code",
   "execution_count": 24,
   "id": "eb82c5d6",
   "metadata": {
    "hidden": true
   },
   "outputs": [],
   "source": [
    "titanic_train.age = by_sex_class['age'].transform(impute_median)"
   ]
  },
  {
   "cell_type": "markdown",
   "id": "b2f21102",
   "metadata": {
    "hidden": true
   },
   "source": [
    "## Factorizing Features"
   ]
  },
  {
   "cell_type": "code",
   "execution_count": 25,
   "id": "4939f6c1",
   "metadata": {
    "hidden": true
   },
   "outputs": [],
   "source": [
    "#I will factorise sex or make the words male/female be represented by numbers \n",
    "#(male = 0, female = 1)\n",
    "titanic_train['sex_f'] = pd.factorize(titanic_train['sex'])[0]"
   ]
  },
  {
   "cell_type": "code",
   "execution_count": 26,
   "id": "eea9086e",
   "metadata": {
    "hidden": true
   },
   "outputs": [
    {
     "data": {
      "text/html": [
       "<div>\n",
       "<style scoped>\n",
       "    .dataframe tbody tr th:only-of-type {\n",
       "        vertical-align: middle;\n",
       "    }\n",
       "\n",
       "    .dataframe tbody tr th {\n",
       "        vertical-align: top;\n",
       "    }\n",
       "\n",
       "    .dataframe thead th {\n",
       "        text-align: right;\n",
       "    }\n",
       "</style>\n",
       "<table border=\"1\" class=\"dataframe\">\n",
       "  <thead>\n",
       "    <tr style=\"text-align: right;\">\n",
       "      <th></th>\n",
       "      <th>embarked</th>\n",
       "      <th>embarked_f</th>\n",
       "    </tr>\n",
       "  </thead>\n",
       "  <tbody>\n",
       "    <tr>\n",
       "      <th>0</th>\n",
       "      <td>S</td>\n",
       "      <td>0</td>\n",
       "    </tr>\n",
       "    <tr>\n",
       "      <th>1</th>\n",
       "      <td>C</td>\n",
       "      <td>1</td>\n",
       "    </tr>\n",
       "    <tr>\n",
       "      <th>2</th>\n",
       "      <td>S</td>\n",
       "      <td>0</td>\n",
       "    </tr>\n",
       "    <tr>\n",
       "      <th>3</th>\n",
       "      <td>S</td>\n",
       "      <td>0</td>\n",
       "    </tr>\n",
       "    <tr>\n",
       "      <th>4</th>\n",
       "      <td>S</td>\n",
       "      <td>0</td>\n",
       "    </tr>\n",
       "    <tr>\n",
       "      <th>...</th>\n",
       "      <td>...</td>\n",
       "      <td>...</td>\n",
       "    </tr>\n",
       "    <tr>\n",
       "      <th>886</th>\n",
       "      <td>S</td>\n",
       "      <td>0</td>\n",
       "    </tr>\n",
       "    <tr>\n",
       "      <th>887</th>\n",
       "      <td>S</td>\n",
       "      <td>0</td>\n",
       "    </tr>\n",
       "    <tr>\n",
       "      <th>888</th>\n",
       "      <td>S</td>\n",
       "      <td>0</td>\n",
       "    </tr>\n",
       "    <tr>\n",
       "      <th>889</th>\n",
       "      <td>C</td>\n",
       "      <td>1</td>\n",
       "    </tr>\n",
       "    <tr>\n",
       "      <th>890</th>\n",
       "      <td>Q</td>\n",
       "      <td>2</td>\n",
       "    </tr>\n",
       "  </tbody>\n",
       "</table>\n",
       "<p>891 rows × 2 columns</p>\n",
       "</div>"
      ],
      "text/plain": [
       "    embarked  embarked_f\n",
       "0          S           0\n",
       "1          C           1\n",
       "2          S           0\n",
       "3          S           0\n",
       "4          S           0\n",
       "..       ...         ...\n",
       "886        S           0\n",
       "887        S           0\n",
       "888        S           0\n",
       "889        C           1\n",
       "890        Q           2\n",
       "\n",
       "[891 rows x 2 columns]"
      ]
     },
     "execution_count": 26,
     "metadata": {},
     "output_type": "execute_result"
    }
   ],
   "source": [
    "#I will factorise port of embarkation (S = 0, C = 1, Q = 2)\n",
    "#(male = 0, female = 1)\n",
    "titanic_train['embarked_f'] = pd.factorize(titanic_train['embarked'])[0]\n",
    "titanic_train[['embarked', 'embarked_f']]"
   ]
  },
  {
   "cell_type": "code",
   "execution_count": 27,
   "id": "4e1ad9f8",
   "metadata": {
    "hidden": true
   },
   "outputs": [
    {
     "data": {
      "text/html": [
       "<div>\n",
       "<style scoped>\n",
       "    .dataframe tbody tr th:only-of-type {\n",
       "        vertical-align: middle;\n",
       "    }\n",
       "\n",
       "    .dataframe tbody tr th {\n",
       "        vertical-align: top;\n",
       "    }\n",
       "\n",
       "    .dataframe thead th {\n",
       "        text-align: right;\n",
       "    }\n",
       "</style>\n",
       "<table border=\"1\" class=\"dataframe\">\n",
       "  <thead>\n",
       "    <tr style=\"text-align: right;\">\n",
       "      <th></th>\n",
       "      <th>survived</th>\n",
       "      <th>pclass</th>\n",
       "      <th>name</th>\n",
       "      <th>sex</th>\n",
       "      <th>age</th>\n",
       "      <th>sibsp</th>\n",
       "      <th>parch</th>\n",
       "      <th>ticket</th>\n",
       "      <th>fare</th>\n",
       "      <th>embarked</th>\n",
       "      <th>familysize</th>\n",
       "      <th>sex_f</th>\n",
       "      <th>embarked_f</th>\n",
       "    </tr>\n",
       "  </thead>\n",
       "  <tbody>\n",
       "    <tr>\n",
       "      <th>0</th>\n",
       "      <td>0</td>\n",
       "      <td>3</td>\n",
       "      <td>Braund, Mr. Owen Harris</td>\n",
       "      <td>male</td>\n",
       "      <td>22.0</td>\n",
       "      <td>1</td>\n",
       "      <td>0</td>\n",
       "      <td>A/5 21171</td>\n",
       "      <td>7</td>\n",
       "      <td>S</td>\n",
       "      <td>2</td>\n",
       "      <td>0</td>\n",
       "      <td>0</td>\n",
       "    </tr>\n",
       "    <tr>\n",
       "      <th>1</th>\n",
       "      <td>1</td>\n",
       "      <td>1</td>\n",
       "      <td>Cumings, Mrs. John Bradley (Florence Briggs Th...</td>\n",
       "      <td>female</td>\n",
       "      <td>38.0</td>\n",
       "      <td>1</td>\n",
       "      <td>0</td>\n",
       "      <td>PC 17599</td>\n",
       "      <td>71</td>\n",
       "      <td>C</td>\n",
       "      <td>2</td>\n",
       "      <td>1</td>\n",
       "      <td>1</td>\n",
       "    </tr>\n",
       "  </tbody>\n",
       "</table>\n",
       "</div>"
      ],
      "text/plain": [
       "   survived  pclass                                               name  \\\n",
       "0         0       3                            Braund, Mr. Owen Harris   \n",
       "1         1       1  Cumings, Mrs. John Bradley (Florence Briggs Th...   \n",
       "\n",
       "      sex   age  sibsp  parch     ticket  fare embarked  familysize  sex_f  \\\n",
       "0    male  22.0      1      0  A/5 21171     7        S           2      0   \n",
       "1  female  38.0      1      0   PC 17599    71        C           2      1   \n",
       "\n",
       "   embarked_f  \n",
       "0           0  \n",
       "1           1  "
      ]
     },
     "execution_count": 27,
     "metadata": {},
     "output_type": "execute_result"
    }
   ],
   "source": [
    "#drop the passengerid and cabin column as I feel they won't add much to the prediction.\n",
    "titanic_train=titanic_train.drop(['passengerid','cabin'], axis=1)\n",
    "titanic_train.head(2)"
   ]
  },
  {
   "cell_type": "code",
   "execution_count": 28,
   "id": "cce2bee9",
   "metadata": {
    "hidden": true
   },
   "outputs": [
    {
     "data": {
      "text/plain": [
       "array([[<AxesSubplot:title={'center':'survived'}>,\n",
       "        <AxesSubplot:title={'center':'pclass'}>,\n",
       "        <AxesSubplot:title={'center':'age'}>],\n",
       "       [<AxesSubplot:title={'center':'sibsp'}>,\n",
       "        <AxesSubplot:title={'center':'parch'}>,\n",
       "        <AxesSubplot:title={'center':'fare'}>],\n",
       "       [<AxesSubplot:title={'center':'familysize'}>,\n",
       "        <AxesSubplot:title={'center':'sex_f'}>,\n",
       "        <AxesSubplot:title={'center':'embarked_f'}>]], dtype=object)"
      ]
     },
     "execution_count": 28,
     "metadata": {},
     "output_type": "execute_result"
    },
    {
     "data": {
      "image/png": "[encoded data removed]",
      "text/plain": [
       "<Figure size 432x288 with 9 Axes>"
      ]
     },
     "metadata": {
      "needs_background": "light"
     },
     "output_type": "display_data"
    }
   ],
   "source": [
    "titanic_train.hist()"
   ]
  },
  {
   "cell_type": "code",
   "execution_count": 29,
   "id": "a392f1ab",
   "metadata": {
    "hidden": true
   },
   "outputs": [
    {
     "name": "stdout",
     "output_type": "stream",
     "text": [
      "<class 'pandas.core.frame.DataFrame'>\n",
      "RangeIndex: 891 entries, 0 to 890\n",
      "Data columns (total 13 columns):\n",
      " #   Column      Non-Null Count  Dtype  \n",
      "---  ------      --------------  -----  \n",
      " 0   survived    891 non-null    int64  \n",
      " 1   pclass      891 non-null    int64  \n",
      " 2   name        891 non-null    object \n",
      " 3   sex         891 non-null    object \n",
      " 4   age         891 non-null    float64\n",
      " 5   sibsp       891 non-null    int64  \n",
      " 6   parch       891 non-null    int64  \n",
      " 7   ticket      891 non-null    object \n",
      " 8   fare        891 non-null    int64  \n",
      " 9   embarked    891 non-null    object \n",
      " 10  familysize  891 non-null    int64  \n",
      " 11  sex_f       891 non-null    int64  \n",
      " 12  embarked_f  891 non-null    int64  \n",
      "dtypes: float64(1), int64(8), object(4)\n",
      "memory usage: 90.6+ KB\n"
     ]
    }
   ],
   "source": [
    "titanic_train.info()"
   ]
  },
  {
   "cell_type": "markdown",
   "id": "6c9dd418",
   "metadata": {
    "hidden": true
   },
   "source": [
    "My initial thoughts have been verified by the above analysis.  I will use the \n",
    "following information to train/test the data for predicting the survival rate of passengers.\n",
    "-  pclass (class), \n",
    "-  sex_f (sex factorized), \n",
    "-  age, \n",
    "-  sibsp (siblings/spouse), I will use the familysize column,\n",
    "-  parch (parents of children on board)\n",
    "-  fare\n",
    "-  embarked_f (where they embarked)\n",
    "\n"
   ]
  },
  {
   "cell_type": "markdown",
   "id": "a89b7c53",
   "metadata": {
    "heading_collapsed": true
   },
   "source": [
    "# Train/Test Split"
   ]
  },
  {
   "cell_type": "code",
   "execution_count": 30,
   "id": "8ee4c5c5",
   "metadata": {
    "hidden": true
   },
   "outputs": [],
   "source": [
    "#drop the column \"survived\" from file as we are creating a ML to predict\n",
    "#y is true data (Y_true) the survivors from the original file, we will try and predict Y_new\n",
    "X = titanic_train[['pclass','age', 'sibsp', 'parch', 'fare', 'familysize', 'sex_f', 'embarked_f']]\n",
    "y = titanic_train[\"survived\"]"
   ]
  },
  {
   "cell_type": "code",
   "execution_count": 31,
   "id": "9c5618ff",
   "metadata": {
    "hidden": true
   },
   "outputs": [
    {
     "data": {
      "text/plain": [
       "((891, 8), (891,))"
      ]
     },
     "execution_count": 31,
     "metadata": {},
     "output_type": "execute_result"
    }
   ],
   "source": [
    "X.shape, y.shape"
   ]
  },
  {
   "cell_type": "code",
   "execution_count": 32,
   "id": "c4e48c70",
   "metadata": {
    "hidden": true
   },
   "outputs": [],
   "source": [
    "X_train, X_test, y_train, y_test = train_test_split(X,y, test_size = 0.2)"
   ]
  },
  {
   "cell_type": "code",
   "execution_count": 33,
   "id": "5f229c76",
   "metadata": {
    "hidden": true
   },
   "outputs": [
    {
     "data": {
      "text/plain": [
       "((712, 8), (179, 8), (712,), (179,))"
      ]
     },
     "execution_count": 33,
     "metadata": {},
     "output_type": "execute_result"
    }
   ],
   "source": [
    "X_train.shape, X_test.shape, y_train.shape, y_test.shape"
   ]
  },
  {
   "cell_type": "markdown",
   "id": "54fcea92",
   "metadata": {},
   "source": [
    "# Modelling"
   ]
  },
  {
   "cell_type": "markdown",
   "id": "3d1ea303",
   "metadata": {},
   "source": [
    "I am using Supervised Machine Learning models as we know the answer of who survived and who died. Since we have a classification issue (yes or no, binary 0 or 1) we can use models such as: \n",
    "-  Logistic Regression\n",
    "-  the Random Forest Classification\n",
    "-  Support Vector Machine (SVM)\n",
    "-  Naive Bayes\n",
    "-  k-NN\n",
    "-  or other deep learning models\n",
    "\n",
    "I will do a combination of Logistic Regression, Random Forest Classification, and Support Vector Machine and compare how accurate each model is to each other."
   ]
  },
  {
   "cell_type": "markdown",
   "id": "5e2845dd",
   "metadata": {
    "heading_collapsed": true
   },
   "source": [
    "## Logistic Regression Model"
   ]
  },
  {
   "cell_type": "markdown",
   "id": "5a4956e0",
   "metadata": {
    "hidden": true
   },
   "source": [
    "The Logistic Regression Model (LRM) uses the binary cross entropy (or log loss) as a loss function. The loss function helps measure how well the model fits all of the training datapoints. The loss function takes the actual values of y from the training data and the current predictions and returns a single number.  The closer this number is to zero, the better the model fits the datapoints."
   ]
  },
  {
   "cell_type": "code",
   "execution_count": 34,
   "id": "49ac870a",
   "metadata": {
    "hidden": true
   },
   "outputs": [],
   "source": [
    "X_trainLR, X_testLR, y_trainLR, y_testLR = train_test_split(X,y, test_size = 0.20)"
   ]
  },
  {
   "cell_type": "code",
   "execution_count": 35,
   "id": "af0bac14",
   "metadata": {
    "hidden": true
   },
   "outputs": [
    {
     "data": {
      "text/plain": [
       "((712, 8), (712,), (179, 8), (179,))"
      ]
     },
     "execution_count": 35,
     "metadata": {},
     "output_type": "execute_result"
    }
   ],
   "source": [
    "# check the shape\n",
    "X_trainLR.shape, y_trainLR.shape, X_testLR.shape, y_testLR.shape"
   ]
  },
  {
   "cell_type": "code",
   "execution_count": 36,
   "id": "253449f2",
   "metadata": {
    "hidden": true
   },
   "outputs": [
    {
     "data": {
      "text/html": [
       "<style>#sk-container-id-1 {color: black;background-color: white;}#sk-container-id-1 pre{padding: 0;}#sk-container-id-1 div.sk-toggleable {background-color: white;}#sk-container-id-1 label.sk-toggleable__label {cursor: pointer;display: block;width: 100%;margin-bottom: 0;padding: 0.3em;box-sizing: border-box;text-align: center;}#sk-container-id-1 label.sk-toggleable__label-arrow:before {content: \"▸\";float: left;margin-right: 0.25em;color: #696969;}#sk-container-id-1 label.sk-toggleable__label-arrow:hover:before {color: black;}#sk-container-id-1 div.sk-estimator:hover label.sk-toggleable__label-arrow:before {color: black;}#sk-container-id-1 div.sk-toggleable__content {max-height: 0;max-width: 0;overflow: hidden;text-align: left;background-color: #f0f8ff;}#sk-container-id-1 div.sk-toggleable__content pre {margin: 0.2em;color: black;border-radius: 0.25em;background-color: #f0f8ff;}#sk-container-id-1 input.sk-toggleable__control:checked~div.sk-toggleable__content {max-height: 200px;max-width: 100%;overflow: auto;}#sk-container-id-1 input.sk-toggleable__control:checked~label.sk-toggleable__label-arrow:before {content: \"▾\";}#sk-container-id-1 div.sk-estimator input.sk-toggleable__control:checked~label.sk-toggleable__label {background-color: #d4ebff;}#sk-container-id-1 div.sk-label input.sk-toggleable__control:checked~label.sk-toggleable__label {background-color: #d4ebff;}#sk-container-id-1 input.sk-hidden--visually {border: 0;clip: rect(1px 1px 1px 1px);clip: rect(1px, 1px, 1px, 1px);height: 1px;margin: -1px;overflow: hidden;padding: 0;position: absolute;width: 1px;}#sk-container-id-1 div.sk-estimator {font-family: monospace;background-color: #f0f8ff;border: 1px dotted black;border-radius: 0.25em;box-sizing: border-box;margin-bottom: 0.5em;}#sk-container-id-1 div.sk-estimator:hover {background-color: #d4ebff;}#sk-container-id-1 div.sk-parallel-item::after {content: \"\";width: 100%;border-bottom: 1px solid gray;flex-grow: 1;}#sk-container-id-1 div.sk-label:hover label.sk-toggleable__label {background-color: #d4ebff;}#sk-container-id-1 div.sk-serial::before {content: \"\";position: absolute;border-left: 1px solid gray;box-sizing: border-box;top: 0;bottom: 0;left: 50%;z-index: 0;}#sk-container-id-1 div.sk-serial {display: flex;flex-direction: column;align-items: center;background-color: white;padding-right: 0.2em;padding-left: 0.2em;position: relative;}#sk-container-id-1 div.sk-item {position: relative;z-index: 1;}#sk-container-id-1 div.sk-parallel {display: flex;align-items: stretch;justify-content: center;background-color: white;position: relative;}#sk-container-id-1 div.sk-item::before, #sk-container-id-1 div.sk-parallel-item::before {content: \"\";position: absolute;border-left: 1px solid gray;box-sizing: border-box;top: 0;bottom: 0;left: 50%;z-index: -1;}#sk-container-id-1 div.sk-parallel-item {display: flex;flex-direction: column;z-index: 1;position: relative;background-color: white;}#sk-container-id-1 div.sk-parallel-item:first-child::after {align-self: flex-end;width: 50%;}#sk-container-id-1 div.sk-parallel-item:last-child::after {align-self: flex-start;width: 50%;}#sk-container-id-1 div.sk-parallel-item:only-child::after {width: 0;}#sk-container-id-1 div.sk-dashed-wrapped {border: 1px dashed gray;margin: 0 0.4em 0.5em 0.4em;box-sizing: border-box;padding-bottom: 0.4em;background-color: white;}#sk-container-id-1 div.sk-label label {font-family: monospace;font-weight: bold;display: inline-block;line-height: 1.2em;}#sk-container-id-1 div.sk-label-container {text-align: center;}#sk-container-id-1 div.sk-container {/* jupyter's `normalize.less` sets `[hidden] { display: none; }` but bootstrap.min.css set `[hidden] { display: none !important; }` so we also need the `!important` here to be able to override the default hidden behavior on the sphinx rendered scikit-learn.org. See: https://github.com/scikit-learn/scikit-learn/issues/21755 */display: inline-block !important;position: relative;}#sk-container-id-1 div.sk-text-repr-fallback {display: none;}</style><div id=\"sk-container-id-1\" class=\"sk-top-container\"><div class=\"sk-text-repr-fallback\"><pre>LogisticRegression(max_iter=1000)</pre><b>In a Jupyter environment, please rerun this cell to show the HTML representation or trust the notebook. <br />On GitHub, the HTML representation is unable to render, please try loading this page with nbviewer.org.</b></div><div class=\"sk-container\" hidden><div class=\"sk-item\"><div class=\"sk-estimator sk-toggleable\"><input class=\"sk-toggleable__control sk-hidden--visually\" id=\"sk-estimator-id-1\" type=\"checkbox\" checked><label for=\"sk-estimator-id-1\" class=\"sk-toggleable__label sk-toggleable__label-arrow\">LogisticRegression</label><div class=\"sk-toggleable__content\"><pre>LogisticRegression(max_iter=1000)</pre></div></div></div></div></div>"
      ],
      "text/plain": [
       "LogisticRegression(max_iter=1000)"
      ]
     },
     "execution_count": 36,
     "metadata": {},
     "output_type": "execute_result"
    }
   ],
   "source": [
    "# build and fit the model\n",
    "m_lgr = LogisticRegression(max_iter=1000) \n",
    "\n",
    "m_lgr.fit(X_trainLR,y_trainLR)"
   ]
  },
  {
   "cell_type": "code",
   "execution_count": 37,
   "id": "5e081886",
   "metadata": {
    "hidden": true
   },
   "outputs": [],
   "source": [
    "## Get the estimated probabilities\n",
    "#estim_prob = m_lgr.predict_proba(X_trainLR)\n",
    "#estim_prob"
   ]
  },
  {
   "cell_type": "code",
   "execution_count": 38,
   "id": "e2da8c43",
   "metadata": {
    "hidden": true
   },
   "outputs": [
    {
     "data": {
      "text/plain": [
       "(712,)"
      ]
     },
     "execution_count": 38,
     "metadata": {},
     "output_type": "execute_result"
    }
   ],
   "source": [
    "# Calculate the prediction on the training dataset\n",
    "y_predLR = m_lgr.predict(X_trainLR)\n",
    "y_predLR.shape"
   ]
  },
  {
   "cell_type": "code",
   "execution_count": 39,
   "id": "69e69fe3",
   "metadata": {
    "hidden": true,
    "scrolled": true
   },
   "outputs": [],
   "source": [
    "# Calculate the accuracy\n",
    "accuracy = m_lgr.score(X_trainLR,y_trainLR)"
   ]
  },
  {
   "cell_type": "code",
   "execution_count": 40,
   "id": "6777f8f0",
   "metadata": {
    "hidden": true
   },
   "outputs": [
    {
     "name": "stdout",
     "output_type": "stream",
     "text": [
      "The Logistic regression has achieved an: \n",
      " \n",
      "accuracy = 0.83\n",
      "\n",
      "precision = 0.79 \n",
      " \n",
      "recall = 0.72\n",
      "\n",
      "f1 = 0.75\n"
     ]
    }
   ],
   "source": [
    "print(f\"\"\"The Logistic regression has achieved an: \\n \n",
    "accuracy = {round(accuracy,2)}\\n\n",
    "precision = {round(precision_score(y_trainLR,y_predLR),2)} \\n \n",
    "recall = {round(recall_score(y_trainLR,y_predLR),2)}\\n\n",
    "f1 = {round(f1_score(y_trainLR,y_predLR),2)}\"\"\")"
   ]
  },
  {
   "cell_type": "markdown",
   "id": "135fb764",
   "metadata": {
    "hidden": true
   },
   "source": [
    "Precision indicates the quality of a positive prediction made by the model. Of the total positive predicted values, how many of them are actually positive (the number of true positives plus the number of false positives).\n",
    "\n",
    "The recall is calculated as the ratio between the number of Positive samples correctly classified as Positive to the total number of Positive samples. The higher the recall, the more positive samples detected (less negative samples misclassified).\n",
    "\n",
    "F1-score sums up the performance of a model by combining precision and recall."
   ]
  },
  {
   "cell_type": "markdown",
   "id": "1436d9a2",
   "metadata": {
    "heading_collapsed": true,
    "hidden": true
   },
   "source": [
    "### Cross Validation on Logistic Regression"
   ]
  },
  {
   "cell_type": "code",
   "execution_count": 41,
   "id": "d97da84d",
   "metadata": {
    "hidden": true
   },
   "outputs": [
    {
     "data": {
      "text/plain": [
       "array([0.81, 0.8 , 0.82, 0.85, 0.81])"
      ]
     },
     "execution_count": 41,
     "metadata": {},
     "output_type": "execute_result"
    }
   ],
   "source": [
    "cross_accuracy_logLR = cross_val_score(m_lgr,  #estimator: the model that you want to evalueate\n",
    "                                     X_trainLR, # the training data\n",
    "                                     y_trainLR,  # the training data\n",
    "                                     cv = 5 , # number of cross validation datasets, k-folds\n",
    "                                     scoring = 'accuracy' # evaluation metric\n",
    "\n",
    ")\n",
    "\n",
    "CAL_LR=np.round_(cross_accuracy_logLR, 2)\n",
    "CAL_LR"
   ]
  },
  {
   "cell_type": "code",
   "execution_count": 42,
   "id": "c240dade",
   "metadata": {
    "hidden": true
   },
   "outputs": [
    {
     "data": {
      "text/plain": [
       "array([[400,  49],\n",
       "       [ 74, 189]])"
      ]
     },
     "execution_count": 42,
     "metadata": {},
     "output_type": "execute_result"
    }
   ],
   "source": [
    "confLR = confusion_matrix(y_trainLR, y_predLR)\n",
    "confLR"
   ]
  },
  {
   "cell_type": "code",
   "execution_count": 43,
   "id": "f62475b6",
   "metadata": {
    "hidden": true
   },
   "outputs": [
    {
     "data": {
      "image/png": "[encoded data removed]",
      "text/plain": [
       "<Figure size 432x288 with 2 Axes>"
      ]
     },
     "metadata": {
      "needs_background": "light"
     },
     "output_type": "display_data"
    }
   ],
   "source": [
    "cmLR = confusion_matrix(y_trainLR, y_predLR, labels=m_lgr.classes_)\n",
    "disp = ConfusionMatrixDisplay(confusion_matrix=cmLR,\n",
    "                              display_labels=m_lgr.classes_)\n",
    "disp.plot()\n",
    "plt.show()"
   ]
  },
  {
   "cell_type": "markdown",
   "id": "82c3f9ac",
   "metadata": {
    "heading_collapsed": true
   },
   "source": [
    "## Test predictions before trying for Kaggle"
   ]
  },
  {
   "cell_type": "code",
   "execution_count": 44,
   "id": "9e177fa5",
   "metadata": {
    "hidden": true
   },
   "outputs": [
    {
     "data": {
      "text/plain": [
       "(179,)"
      ]
     },
     "execution_count": 44,
     "metadata": {},
     "output_type": "execute_result"
    }
   ],
   "source": [
    "# Calculate the prediction on the training dataset\n",
    "y_pred_testLR = m_lgr.predict(X_testLR)\n",
    "y_pred_testLR.shape"
   ]
  },
  {
   "cell_type": "code",
   "execution_count": 45,
   "id": "daf44a35",
   "metadata": {
    "hidden": true
   },
   "outputs": [],
   "source": [
    "# Calculate the accuracy\n",
    "accuracy_testLR = m_lgr.score(X_testLR,y_testLR)"
   ]
  },
  {
   "cell_type": "code",
   "execution_count": 46,
   "id": "e9cc15cd",
   "metadata": {
    "hidden": true
   },
   "outputs": [
    {
     "name": "stdout",
     "output_type": "stream",
     "text": [
      "The Logistic regression on the test data has achieved an: \n",
      " \n",
      "accuracy = 0.77\n",
      "\n",
      "precision = 0.77 \n",
      " \n",
      "recall = 0.67\n",
      "\n",
      "f1 = 0.72\n"
     ]
    }
   ],
   "source": [
    "print(f\"\"\"The Logistic regression on the test data has achieved an: \\n \n",
    "accuracy = {round(accuracy_testLR,2)}\\n\n",
    "precision = {round(precision_score(y_testLR,y_pred_testLR),2)} \\n \n",
    "recall = {round(recall_score(y_testLR,y_pred_testLR),2)}\\n\n",
    "f1 = {round(f1_score(y_testLR,y_pred_testLR),2)}\"\"\")"
   ]
  },
  {
   "cell_type": "markdown",
   "id": "f2cefe9d",
   "metadata": {
    "heading_collapsed": true
   },
   "source": [
    "## Cross Validation on Logistic Regression -Test data"
   ]
  },
  {
   "cell_type": "code",
   "execution_count": 47,
   "id": "226e21c8",
   "metadata": {
    "hidden": true
   },
   "outputs": [
    {
     "data": {
      "text/plain": [
       "array([0.64, 0.83, 0.78, 0.69, 0.71])"
      ]
     },
     "execution_count": 47,
     "metadata": {},
     "output_type": "execute_result"
    }
   ],
   "source": [
    "cross_accuracy_logLR_test = cross_val_score(m_lgr,  #estimator: the model that you want to evalueate\n",
    "                                     X_testLR, # the training data\n",
    "                                     y_testLR,  # the training data\n",
    "                                     cv = 5 , # number of cross validation datasets, k-folds\n",
    "                                     scoring = 'accuracy' # evaluation metric\n",
    "\n",
    ")\n",
    "\n",
    "CAL_LR_test=np.round_(cross_accuracy_logLR_test, 2)\n",
    "CAL_LR_test"
   ]
  },
  {
   "cell_type": "markdown",
   "id": "23be7d88",
   "metadata": {
    "heading_collapsed": true
   },
   "source": [
    "## RandomForest"
   ]
  },
  {
   "cell_type": "code",
   "execution_count": 48,
   "id": "206e56f8",
   "metadata": {
    "hidden": true
   },
   "outputs": [],
   "source": [
    "X_trainRF, X_testRF, y_trainRF, y_testRF = train_test_split(X,y, test_size = 0.20)"
   ]
  },
  {
   "cell_type": "code",
   "execution_count": 49,
   "id": "6e721832",
   "metadata": {
    "hidden": true
   },
   "outputs": [
    {
     "data": {
      "text/plain": [
       "((712, 8), (179, 8), (712,), (179,))"
      ]
     },
     "execution_count": 49,
     "metadata": {},
     "output_type": "execute_result"
    }
   ],
   "source": [
    "X_trainRF.shape, X_testRF.shape, y_trainRF.shape, y_testRF.shape"
   ]
  },
  {
   "cell_type": "code",
   "execution_count": 50,
   "id": "321c021f",
   "metadata": {
    "hidden": true
   },
   "outputs": [
    {
     "data": {
      "text/html": [
       "<style>#sk-container-id-2 {color: black;background-color: white;}#sk-container-id-2 pre{padding: 0;}#sk-container-id-2 div.sk-toggleable {background-color: white;}#sk-container-id-2 label.sk-toggleable__label {cursor: pointer;display: block;width: 100%;margin-bottom: 0;padding: 0.3em;box-sizing: border-box;text-align: center;}#sk-container-id-2 label.sk-toggleable__label-arrow:before {content: \"▸\";float: left;margin-right: 0.25em;color: #696969;}#sk-container-id-2 label.sk-toggleable__label-arrow:hover:before {color: black;}#sk-container-id-2 div.sk-estimator:hover label.sk-toggleable__label-arrow:before {color: black;}#sk-container-id-2 div.sk-toggleable__content {max-height: 0;max-width: 0;overflow: hidden;text-align: left;background-color: #f0f8ff;}#sk-container-id-2 div.sk-toggleable__content pre {margin: 0.2em;color: black;border-radius: 0.25em;background-color: #f0f8ff;}#sk-container-id-2 input.sk-toggleable__control:checked~div.sk-toggleable__content {max-height: 200px;max-width: 100%;overflow: auto;}#sk-container-id-2 input.sk-toggleable__control:checked~label.sk-toggleable__label-arrow:before {content: \"▾\";}#sk-container-id-2 div.sk-estimator input.sk-toggleable__control:checked~label.sk-toggleable__label {background-color: #d4ebff;}#sk-container-id-2 div.sk-label input.sk-toggleable__control:checked~label.sk-toggleable__label {background-color: #d4ebff;}#sk-container-id-2 input.sk-hidden--visually {border: 0;clip: rect(1px 1px 1px 1px);clip: rect(1px, 1px, 1px, 1px);height: 1px;margin: -1px;overflow: hidden;padding: 0;position: absolute;width: 1px;}#sk-container-id-2 div.sk-estimator {font-family: monospace;background-color: #f0f8ff;border: 1px dotted black;border-radius: 0.25em;box-sizing: border-box;margin-bottom: 0.5em;}#sk-container-id-2 div.sk-estimator:hover {background-color: #d4ebff;}#sk-container-id-2 div.sk-parallel-item::after {content: \"\";width: 100%;border-bottom: 1px solid gray;flex-grow: 1;}#sk-container-id-2 div.sk-label:hover label.sk-toggleable__label {background-color: #d4ebff;}#sk-container-id-2 div.sk-serial::before {content: \"\";position: absolute;border-left: 1px solid gray;box-sizing: border-box;top: 0;bottom: 0;left: 50%;z-index: 0;}#sk-container-id-2 div.sk-serial {display: flex;flex-direction: column;align-items: center;background-color: white;padding-right: 0.2em;padding-left: 0.2em;position: relative;}#sk-container-id-2 div.sk-item {position: relative;z-index: 1;}#sk-container-id-2 div.sk-parallel {display: flex;align-items: stretch;justify-content: center;background-color: white;position: relative;}#sk-container-id-2 div.sk-item::before, #sk-container-id-2 div.sk-parallel-item::before {content: \"\";position: absolute;border-left: 1px solid gray;box-sizing: border-box;top: 0;bottom: 0;left: 50%;z-index: -1;}#sk-container-id-2 div.sk-parallel-item {display: flex;flex-direction: column;z-index: 1;position: relative;background-color: white;}#sk-container-id-2 div.sk-parallel-item:first-child::after {align-self: flex-end;width: 50%;}#sk-container-id-2 div.sk-parallel-item:last-child::after {align-self: flex-start;width: 50%;}#sk-container-id-2 div.sk-parallel-item:only-child::after {width: 0;}#sk-container-id-2 div.sk-dashed-wrapped {border: 1px dashed gray;margin: 0 0.4em 0.5em 0.4em;box-sizing: border-box;padding-bottom: 0.4em;background-color: white;}#sk-container-id-2 div.sk-label label {font-family: monospace;font-weight: bold;display: inline-block;line-height: 1.2em;}#sk-container-id-2 div.sk-label-container {text-align: center;}#sk-container-id-2 div.sk-container {/* jupyter's `normalize.less` sets `[hidden] { display: none; }` but bootstrap.min.css set `[hidden] { display: none !important; }` so we also need the `!important` here to be able to override the default hidden behavior on the sphinx rendered scikit-learn.org. See: https://github.com/scikit-learn/scikit-learn/issues/21755 */display: inline-block !important;position: relative;}#sk-container-id-2 div.sk-text-repr-fallback {display: none;}</style><div id=\"sk-container-id-2\" class=\"sk-top-container\"><div class=\"sk-text-repr-fallback\"><pre>RandomForestClassifier(max_depth=4, n_estimators=70)</pre><b>In a Jupyter environment, please rerun this cell to show the HTML representation or trust the notebook. <br />On GitHub, the HTML representation is unable to render, please try loading this page with nbviewer.org.</b></div><div class=\"sk-container\" hidden><div class=\"sk-item\"><div class=\"sk-estimator sk-toggleable\"><input class=\"sk-toggleable__control sk-hidden--visually\" id=\"sk-estimator-id-2\" type=\"checkbox\" checked><label for=\"sk-estimator-id-2\" class=\"sk-toggleable__label sk-toggleable__label-arrow\">RandomForestClassifier</label><div class=\"sk-toggleable__content\"><pre>RandomForestClassifier(max_depth=4, n_estimators=70)</pre></div></div></div></div></div>"
      ],
      "text/plain": [
       "RandomForestClassifier(max_depth=4, n_estimators=70)"
      ]
     },
     "execution_count": 50,
     "metadata": {},
     "output_type": "execute_result"
    }
   ],
   "source": [
    "rfc = RandomForestClassifier(n_estimators=70, max_depth=4)    #Hyperparam: n_estimators(number of trees)\n",
    "rfc.fit(X_trainRF, y_trainRF)"
   ]
  },
  {
   "cell_type": "code",
   "execution_count": 51,
   "id": "a8b2dcdd",
   "metadata": {
    "hidden": true
   },
   "outputs": [
    {
     "data": {
      "text/plain": [
       "(712,)"
      ]
     },
     "execution_count": 51,
     "metadata": {},
     "output_type": "execute_result"
    }
   ],
   "source": [
    "y_predRF = rfc.predict(X_trainRF)\n",
    "y_predRF.shape"
   ]
  },
  {
   "cell_type": "code",
   "execution_count": 52,
   "id": "a4ef13a5",
   "metadata": {
    "hidden": true
   },
   "outputs": [
    {
     "data": {
      "text/plain": [
       "0.843"
      ]
     },
     "execution_count": 52,
     "metadata": {},
     "output_type": "execute_result"
    }
   ],
   "source": [
    "round(rfc.score(X_trainRF, y_trainRF),3)"
   ]
  },
  {
   "cell_type": "code",
   "execution_count": 53,
   "id": "f6527888",
   "metadata": {
    "hidden": true
   },
   "outputs": [],
   "source": [
    "#round(rfc.score(X_testRF, y_testRF),3)"
   ]
  },
  {
   "cell_type": "code",
   "execution_count": 54,
   "id": "dec8a26e",
   "metadata": {
    "hidden": true
   },
   "outputs": [
    {
     "data": {
      "text/plain": [
       "array([0.12967703, 0.08991611, 0.03700618, 0.01772181, 0.15307771,\n",
       "       0.06708325, 0.46509671, 0.04042119])"
      ]
     },
     "execution_count": 54,
     "metadata": {},
     "output_type": "execute_result"
    }
   ],
   "source": [
    "importance = rfc.feature_importances_\n",
    "importance"
   ]
  },
  {
   "cell_type": "code",
   "execution_count": 55,
   "id": "36402e65",
   "metadata": {
    "hidden": true
   },
   "outputs": [
    {
     "name": "stdout",
     "output_type": "stream",
     "text": [
      "Feature: 0, Score: 0.12968\n",
      "Feature: 1, Score: 0.08992\n",
      "Feature: 2, Score: 0.03701\n",
      "Feature: 3, Score: 0.01772\n",
      "Feature: 4, Score: 0.15308\n",
      "Feature: 5, Score: 0.06708\n",
      "Feature: 6, Score: 0.46510\n",
      "Feature: 7, Score: 0.04042\n"
     ]
    }
   ],
   "source": [
    "# summarize feature importance\n",
    "for i,v in enumerate(importance):\n",
    "        print('Feature: %0d, Score: %.5f' % (i,   v))"
   ]
  },
  {
   "cell_type": "code",
   "execution_count": 56,
   "id": "47f25fbf",
   "metadata": {
    "hidden": true
   },
   "outputs": [
    {
     "data": {
      "text/plain": [
       "([<matplotlib.axis.XTick at 0x14c59f5e0>,\n",
       "  <matplotlib.axis.XTick at 0x14c59f5b0>,\n",
       "  <matplotlib.axis.XTick at 0x14c578c10>,\n",
       "  <matplotlib.axis.XTick at 0x14c5d1e80>,\n",
       "  <matplotlib.axis.XTick at 0x14c5df610>,\n",
       "  <matplotlib.axis.XTick at 0x14c5dfd60>,\n",
       "  <matplotlib.axis.XTick at 0x14c5e34f0>,\n",
       "  <matplotlib.axis.XTick at 0x14c5dfd90>],\n",
       " [Text(0.12967703283999965, 0, 'Feature 0'),\n",
       "  Text(0.08991611397770627, 0, 'Feature 1'),\n",
       "  Text(0.03700618180576551, 0, 'Feature 2'),\n",
       "  Text(0.017721811777043156, 0, 'Feature 3'),\n",
       "  Text(0.1530777089994656, 0, 'Feature 4'),\n",
       "  Text(0.0670832492029047, 0, 'Feature 5'),\n",
       "  Text(0.4650967106578028, 0, 'Feature 6'),\n",
       "  Text(0.040421190739312274, 0, 'Feature 7')])"
      ]
     },
     "execution_count": 56,
     "metadata": {},
     "output_type": "execute_result"
    },
    {
     "data": {
      "image/png": "[encoded data removed]",
      "text/plain": [
       "<Figure size 648x360 with 1 Axes>"
      ]
     },
     "metadata": {
      "needs_background": "light"
     },
     "output_type": "display_data"
    }
   ],
   "source": [
    "fig = plt.figure(figsize=(9,5))\n",
    "\n",
    "plt.bar([x for x in range(len(importance))], importance)\n",
    "plt.title('Random Forest Feature Importance')\n",
    "plt.xticks(importance, ('Feature 0', 'Feature 1', 'Feature 2', 'Feature 3', 'Feature 4', 'Feature 5', 'Feature 6', 'Feature 7'))"
   ]
  },
  {
   "cell_type": "code",
   "execution_count": 57,
   "id": "da6bcc2c",
   "metadata": {
    "hidden": true
   },
   "outputs": [],
   "source": [
    "# Calculate the accuracy\n",
    "accuracyRF = rfc.score(X_trainRF,y_trainRF)"
   ]
  },
  {
   "cell_type": "code",
   "execution_count": 58,
   "id": "0ac1b5cd",
   "metadata": {
    "hidden": true
   },
   "outputs": [
    {
     "name": "stdout",
     "output_type": "stream",
     "text": [
      "The Random Forest Model has achieved an: \n",
      " \n",
      "accuracy = 0.84\n",
      "\n",
      "precision = 0.87 \n",
      " \n",
      "recall = 0.7\n",
      "\n",
      "f1 = 0.78\n"
     ]
    }
   ],
   "source": [
    "print(f\"\"\"The Random Forest Model has achieved an: \\n \n",
    "accuracy = {round(accuracyRF,2)}\\n\n",
    "precision = {round(precision_score(y_trainRF,y_predRF),2)} \\n \n",
    "recall = {round(recall_score(y_trainRF,y_predRF),2)}\\n\n",
    "f1 = {round(f1_score(y_trainRF,y_predRF),2)}\"\"\")"
   ]
  },
  {
   "cell_type": "markdown",
   "id": "17964599",
   "metadata": {
    "hidden": true
   },
   "source": [
    "### Cross Validation RFC"
   ]
  },
  {
   "cell_type": "code",
   "execution_count": 59,
   "id": "557c645b",
   "metadata": {
    "hidden": true
   },
   "outputs": [
    {
     "data": {
      "text/plain": [
       "array([0.82, 0.81, 0.82, 0.81, 0.82])"
      ]
     },
     "execution_count": 59,
     "metadata": {},
     "output_type": "execute_result"
    }
   ],
   "source": [
    "cross_accuracy_logRFC = cross_val_score(rfc,  #estimator: the model that you want to evalueate\n",
    "                                     X_trainRF, # the training data\n",
    "                                     y_trainRF\n",
    "                                        ,  # the training data\n",
    "                                     cv = 5 , # number of cross validation datasets, k-folds\n",
    "                                     scoring = 'accuracy' # evaluation metric\n",
    "\n",
    ")\n",
    "\n",
    "CAL_RFC = np.round_(cross_accuracy_logRFC, 2)\n",
    "CAL_RFC"
   ]
  },
  {
   "cell_type": "code",
   "execution_count": 60,
   "id": "1d8f9df7",
   "metadata": {
    "hidden": true
   },
   "outputs": [
    {
     "data": {
      "text/plain": [
       "array([[407,  30],\n",
       "       [ 82, 193]])"
      ]
     },
     "execution_count": 60,
     "metadata": {},
     "output_type": "execute_result"
    }
   ],
   "source": [
    "conf = confusion_matrix(y_trainRF, y_predRF)\n",
    "conf"
   ]
  },
  {
   "cell_type": "code",
   "execution_count": 61,
   "id": "2d0cb1f0",
   "metadata": {
    "hidden": true,
    "scrolled": true
   },
   "outputs": [
    {
     "data": {
      "image/png": "[encoded data removed]",
      "text/plain": [
       "<Figure size 432x288 with 2 Axes>"
      ]
     },
     "metadata": {
      "needs_background": "light"
     },
     "output_type": "display_data"
    }
   ],
   "source": [
    "cm = confusion_matrix(y_trainRF, y_predRF, labels=rfc.classes_)\n",
    "disp = ConfusionMatrixDisplay(confusion_matrix=cm,\n",
    "                              display_labels=rfc.classes_,\n",
    "                                )\n",
    "disp.plot()\n",
    "plt.show()"
   ]
  },
  {
   "cell_type": "markdown",
   "id": "56e436e8",
   "metadata": {},
   "source": [
    "## Random Forest Classification Model -Test dataset"
   ]
  },
  {
   "cell_type": "code",
   "execution_count": 62,
   "id": "872524e0",
   "metadata": {},
   "outputs": [
    {
     "data": {
      "text/plain": [
       "(179,)"
      ]
     },
     "execution_count": 62,
     "metadata": {},
     "output_type": "execute_result"
    }
   ],
   "source": [
    "y_predRF_test = rfc.predict(X_testRF)\n",
    "y_predRF_test.shape"
   ]
  },
  {
   "cell_type": "code",
   "execution_count": 63,
   "id": "5175ad99",
   "metadata": {},
   "outputs": [
    {
     "data": {
      "text/plain": [
       "0.821"
      ]
     },
     "execution_count": 63,
     "metadata": {},
     "output_type": "execute_result"
    }
   ],
   "source": [
    "round(rfc.score(X_testRF, y_testRF),3)"
   ]
  },
  {
   "cell_type": "code",
   "execution_count": 64,
   "id": "f922ee53",
   "metadata": {},
   "outputs": [],
   "source": [
    "# Calculate the accuracy\n",
    "accuracyRF_test = rfc.score(X_testRF,y_testRF)"
   ]
  },
  {
   "cell_type": "code",
   "execution_count": 65,
   "id": "6d84dfef",
   "metadata": {},
   "outputs": [
    {
     "name": "stdout",
     "output_type": "stream",
     "text": [
      "The Random Forest Model on the test data has achieved an: \n",
      " \n",
      "accuracy = 0.82\n",
      "\n",
      "precision = 0.82 \n",
      " \n",
      "recall = 0.67\n",
      "\n",
      "f1 = 0.74\n"
     ]
    }
   ],
   "source": [
    "print(f\"\"\"The Random Forest Model on the test data has achieved an: \\n \n",
    "accuracy = {round(accuracyRF_test,2)}\\n\n",
    "precision = {round(precision_score(y_testRF,y_predRF_test),2)} \\n \n",
    "recall = {round(recall_score(y_testRF,y_predRF_test),2)}\\n\n",
    "f1 = {round(f1_score(y_testRF,y_predRF_test),2)}\"\"\")"
   ]
  },
  {
   "cell_type": "markdown",
   "id": "0814819e",
   "metadata": {},
   "source": [
    "## Cross Validation on Test dataset RFC"
   ]
  },
  {
   "cell_type": "code",
   "execution_count": 66,
   "id": "011e536a",
   "metadata": {},
   "outputs": [
    {
     "data": {
      "text/plain": [
       "array([0.81, 0.75, 0.69, 0.78, 0.8 ])"
      ]
     },
     "execution_count": 66,
     "metadata": {},
     "output_type": "execute_result"
    }
   ],
   "source": [
    "cross_accuracy_logRFC_test = cross_val_score(rfc,  #estimator: the model that you want to evalueate\n",
    "                                     X_testRF, # the training data\n",
    "                                     y_testRF\n",
    "                                        ,  # the training data\n",
    "                                     cv = 5 , # number of cross validation datasets, k-folds\n",
    "                                     scoring = 'accuracy' # evaluation metric\n",
    "\n",
    ")\n",
    "\n",
    "CAL_RFC_test = np.round_(cross_accuracy_logRFC_test, 2)\n",
    "CAL_RFC_test"
   ]
  },
  {
   "cell_type": "markdown",
   "id": "dfa14bff",
   "metadata": {},
   "source": [
    "# Support Vector Machine"
   ]
  },
  {
   "cell_type": "code",
   "execution_count": 67,
   "id": "a281f06c",
   "metadata": {},
   "outputs": [],
   "source": [
    "X_trainSV, X_testSV, y_trainSV, y_testSV = train_test_split(X,y, test_size = 0.20)"
   ]
  },
  {
   "cell_type": "code",
   "execution_count": 68,
   "id": "b4296f00",
   "metadata": {},
   "outputs": [
    {
     "data": {
      "text/html": [
       "<style>#sk-container-id-3 {color: black;background-color: white;}#sk-container-id-3 pre{padding: 0;}#sk-container-id-3 div.sk-toggleable {background-color: white;}#sk-container-id-3 label.sk-toggleable__label {cursor: pointer;display: block;width: 100%;margin-bottom: 0;padding: 0.3em;box-sizing: border-box;text-align: center;}#sk-container-id-3 label.sk-toggleable__label-arrow:before {content: \"▸\";float: left;margin-right: 0.25em;color: #696969;}#sk-container-id-3 label.sk-toggleable__label-arrow:hover:before {color: black;}#sk-container-id-3 div.sk-estimator:hover label.sk-toggleable__label-arrow:before {color: black;}#sk-container-id-3 div.sk-toggleable__content {max-height: 0;max-width: 0;overflow: hidden;text-align: left;background-color: #f0f8ff;}#sk-container-id-3 div.sk-toggleable__content pre {margin: 0.2em;color: black;border-radius: 0.25em;background-color: #f0f8ff;}#sk-container-id-3 input.sk-toggleable__control:checked~div.sk-toggleable__content {max-height: 200px;max-width: 100%;overflow: auto;}#sk-container-id-3 input.sk-toggleable__control:checked~label.sk-toggleable__label-arrow:before {content: \"▾\";}#sk-container-id-3 div.sk-estimator input.sk-toggleable__control:checked~label.sk-toggleable__label {background-color: #d4ebff;}#sk-container-id-3 div.sk-label input.sk-toggleable__control:checked~label.sk-toggleable__label {background-color: #d4ebff;}#sk-container-id-3 input.sk-hidden--visually {border: 0;clip: rect(1px 1px 1px 1px);clip: rect(1px, 1px, 1px, 1px);height: 1px;margin: -1px;overflow: hidden;padding: 0;position: absolute;width: 1px;}#sk-container-id-3 div.sk-estimator {font-family: monospace;background-color: #f0f8ff;border: 1px dotted black;border-radius: 0.25em;box-sizing: border-box;margin-bottom: 0.5em;}#sk-container-id-3 div.sk-estimator:hover {background-color: #d4ebff;}#sk-container-id-3 div.sk-parallel-item::after {content: \"\";width: 100%;border-bottom: 1px solid gray;flex-grow: 1;}#sk-container-id-3 div.sk-label:hover label.sk-toggleable__label {background-color: #d4ebff;}#sk-container-id-3 div.sk-serial::before {content: \"\";position: absolute;border-left: 1px solid gray;box-sizing: border-box;top: 0;bottom: 0;left: 50%;z-index: 0;}#sk-container-id-3 div.sk-serial {display: flex;flex-direction: column;align-items: center;background-color: white;padding-right: 0.2em;padding-left: 0.2em;position: relative;}#sk-container-id-3 div.sk-item {position: relative;z-index: 1;}#sk-container-id-3 div.sk-parallel {display: flex;align-items: stretch;justify-content: center;background-color: white;position: relative;}#sk-container-id-3 div.sk-item::before, #sk-container-id-3 div.sk-parallel-item::before {content: \"\";position: absolute;border-left: 1px solid gray;box-sizing: border-box;top: 0;bottom: 0;left: 50%;z-index: -1;}#sk-container-id-3 div.sk-parallel-item {display: flex;flex-direction: column;z-index: 1;position: relative;background-color: white;}#sk-container-id-3 div.sk-parallel-item:first-child::after {align-self: flex-end;width: 50%;}#sk-container-id-3 div.sk-parallel-item:last-child::after {align-self: flex-start;width: 50%;}#sk-container-id-3 div.sk-parallel-item:only-child::after {width: 0;}#sk-container-id-3 div.sk-dashed-wrapped {border: 1px dashed gray;margin: 0 0.4em 0.5em 0.4em;box-sizing: border-box;padding-bottom: 0.4em;background-color: white;}#sk-container-id-3 div.sk-label label {font-family: monospace;font-weight: bold;display: inline-block;line-height: 1.2em;}#sk-container-id-3 div.sk-label-container {text-align: center;}#sk-container-id-3 div.sk-container {/* jupyter's `normalize.less` sets `[hidden] { display: none; }` but bootstrap.min.css set `[hidden] { display: none !important; }` so we also need the `!important` here to be able to override the default hidden behavior on the sphinx rendered scikit-learn.org. See: https://github.com/scikit-learn/scikit-learn/issues/21755 */display: inline-block !important;position: relative;}#sk-container-id-3 div.sk-text-repr-fallback {display: none;}</style><div id=\"sk-container-id-3\" class=\"sk-top-container\"><div class=\"sk-text-repr-fallback\"><pre>Pipeline(steps=[(&#x27;standardscaler&#x27;, StandardScaler()),\n",
       "                (&#x27;svc&#x27;, SVC(gamma=&#x27;auto&#x27;))])</pre><b>In a Jupyter environment, please rerun this cell to show the HTML representation or trust the notebook. <br />On GitHub, the HTML representation is unable to render, please try loading this page with nbviewer.org.</b></div><div class=\"sk-container\" hidden><div class=\"sk-item sk-dashed-wrapped\"><div class=\"sk-label-container\"><div class=\"sk-label sk-toggleable\"><input class=\"sk-toggleable__control sk-hidden--visually\" id=\"sk-estimator-id-3\" type=\"checkbox\" ><label for=\"sk-estimator-id-3\" class=\"sk-toggleable__label sk-toggleable__label-arrow\">Pipeline</label><div class=\"sk-toggleable__content\"><pre>Pipeline(steps=[(&#x27;standardscaler&#x27;, StandardScaler()),\n",
       "                (&#x27;svc&#x27;, SVC(gamma=&#x27;auto&#x27;))])</pre></div></div></div><div class=\"sk-serial\"><div class=\"sk-item\"><div class=\"sk-estimator sk-toggleable\"><input class=\"sk-toggleable__control sk-hidden--visually\" id=\"sk-estimator-id-4\" type=\"checkbox\" ><label for=\"sk-estimator-id-4\" class=\"sk-toggleable__label sk-toggleable__label-arrow\">StandardScaler</label><div class=\"sk-toggleable__content\"><pre>StandardScaler()</pre></div></div></div><div class=\"sk-item\"><div class=\"sk-estimator sk-toggleable\"><input class=\"sk-toggleable__control sk-hidden--visually\" id=\"sk-estimator-id-5\" type=\"checkbox\" ><label for=\"sk-estimator-id-5\" class=\"sk-toggleable__label sk-toggleable__label-arrow\">SVC</label><div class=\"sk-toggleable__content\"><pre>SVC(gamma=&#x27;auto&#x27;)</pre></div></div></div></div></div></div></div>"
      ],
      "text/plain": [
       "Pipeline(steps=[('standardscaler', StandardScaler()),\n",
       "                ('svc', SVC(gamma='auto'))])"
      ]
     },
     "execution_count": 68,
     "metadata": {},
     "output_type": "execute_result"
    }
   ],
   "source": [
    "clf = make_pipeline(StandardScaler(), SVC(gamma='auto'))\n",
    "clf.fit(X_trainSV, y_trainSV)"
   ]
  },
  {
   "cell_type": "code",
   "execution_count": 69,
   "id": "5806e5bd",
   "metadata": {},
   "outputs": [
    {
     "name": "stdout",
     "output_type": "stream",
     "text": [
      "Train Score = 0.84,\n",
      "Test Score = 0.85\n"
     ]
    }
   ],
   "source": [
    "print(f'Train Score = {round(clf.score(X_trainSV, y_trainSV), 2)},\\nTest Score = {round(clf.score(X_testSV, y_testSV), 2)}')"
   ]
  },
  {
   "cell_type": "markdown",
   "id": "1a26b070",
   "metadata": {},
   "source": [
    "## Cross Validation on SVM"
   ]
  },
  {
   "cell_type": "code",
   "execution_count": 70,
   "id": "978aa3dc",
   "metadata": {},
   "outputs": [],
   "source": [
    "cross_accuracy_logSV = cross_val_score(clf,  #estimator: the model that you want to evalueate\n",
    "                                     X_trainSV, # the training data\n",
    "                                     y_trainSV,  # the training data\n",
    "                                     cv = 5 , # number of cross validation datasets, k-folds\n",
    "                                     scoring = 'accuracy' # evaluation metric\n",
    "\n",
    ")\n",
    "\n",
    "CAL_SV=np.round_(cross_accuracy_logSV, 2)"
   ]
  },
  {
   "cell_type": "code",
   "execution_count": 71,
   "id": "e797f658",
   "metadata": {},
   "outputs": [],
   "source": [
    "results = pd.DataFrame({\n",
    "    'Model': ['Logistic Regression', 'Random Forest Classifier', 'Support Vector Machine'],\n",
    "    \n",
    "     'Cross_Accuracy_Log': [CAL_LR, CAL_RFC, CAL_SV]\n",
    "})"
   ]
  },
  {
   "cell_type": "code",
   "execution_count": 72,
   "id": "bee67895",
   "metadata": {},
   "outputs": [
    {
     "data": {
      "text/html": [
       "<div>\n",
       "<style scoped>\n",
       "    .dataframe tbody tr th:only-of-type {\n",
       "        vertical-align: middle;\n",
       "    }\n",
       "\n",
       "    .dataframe tbody tr th {\n",
       "        vertical-align: top;\n",
       "    }\n",
       "\n",
       "    .dataframe thead th {\n",
       "        text-align: right;\n",
       "    }\n",
       "</style>\n",
       "<table border=\"1\" class=\"dataframe\">\n",
       "  <thead>\n",
       "    <tr style=\"text-align: right;\">\n",
       "      <th></th>\n",
       "      <th>Model</th>\n",
       "      <th>Cross_Accuracy_Log</th>\n",
       "    </tr>\n",
       "  </thead>\n",
       "  <tbody>\n",
       "    <tr>\n",
       "      <th>0</th>\n",
       "      <td>Logistic Regression</td>\n",
       "      <td>[0.81, 0.8, 0.82, 0.85, 0.81]</td>\n",
       "    </tr>\n",
       "    <tr>\n",
       "      <th>1</th>\n",
       "      <td>Random Forest Classifier</td>\n",
       "      <td>[0.82, 0.81, 0.82, 0.81, 0.82]</td>\n",
       "    </tr>\n",
       "    <tr>\n",
       "      <th>2</th>\n",
       "      <td>Support Vector Machine</td>\n",
       "      <td>[0.8, 0.82, 0.82, 0.84, 0.8]</td>\n",
       "    </tr>\n",
       "  </tbody>\n",
       "</table>\n",
       "</div>"
      ],
      "text/plain": [
       "                      Model              Cross_Accuracy_Log\n",
       "0       Logistic Regression   [0.81, 0.8, 0.82, 0.85, 0.81]\n",
       "1  Random Forest Classifier  [0.82, 0.81, 0.82, 0.81, 0.82]\n",
       "2    Support Vector Machine    [0.8, 0.82, 0.82, 0.84, 0.8]"
      ]
     },
     "execution_count": 72,
     "metadata": {},
     "output_type": "execute_result"
    }
   ],
   "source": [
    "results"
   ]
  },
  {
   "cell_type": "markdown",
   "id": "9f2f5df2",
   "metadata": {},
   "source": [
    "The Support Vector Machine had the best overall results and I will use this model for my Kaggle Submission."
   ]
  },
  {
   "cell_type": "markdown",
   "id": "a3269d75",
   "metadata": {},
   "source": [
    "## Support Vector Machine Model - Test dataset"
   ]
  },
  {
   "cell_type": "code",
   "execution_count": 73,
   "id": "88ef8083",
   "metadata": {},
   "outputs": [
    {
     "data": {
      "text/html": [
       "<style>#sk-container-id-4 {color: black;background-color: white;}#sk-container-id-4 pre{padding: 0;}#sk-container-id-4 div.sk-toggleable {background-color: white;}#sk-container-id-4 label.sk-toggleable__label {cursor: pointer;display: block;width: 100%;margin-bottom: 0;padding: 0.3em;box-sizing: border-box;text-align: center;}#sk-container-id-4 label.sk-toggleable__label-arrow:before {content: \"▸\";float: left;margin-right: 0.25em;color: #696969;}#sk-container-id-4 label.sk-toggleable__label-arrow:hover:before {color: black;}#sk-container-id-4 div.sk-estimator:hover label.sk-toggleable__label-arrow:before {color: black;}#sk-container-id-4 div.sk-toggleable__content {max-height: 0;max-width: 0;overflow: hidden;text-align: left;background-color: #f0f8ff;}#sk-container-id-4 div.sk-toggleable__content pre {margin: 0.2em;color: black;border-radius: 0.25em;background-color: #f0f8ff;}#sk-container-id-4 input.sk-toggleable__control:checked~div.sk-toggleable__content {max-height: 200px;max-width: 100%;overflow: auto;}#sk-container-id-4 input.sk-toggleable__control:checked~label.sk-toggleable__label-arrow:before {content: \"▾\";}#sk-container-id-4 div.sk-estimator input.sk-toggleable__control:checked~label.sk-toggleable__label {background-color: #d4ebff;}#sk-container-id-4 div.sk-label input.sk-toggleable__control:checked~label.sk-toggleable__label {background-color: #d4ebff;}#sk-container-id-4 input.sk-hidden--visually {border: 0;clip: rect(1px 1px 1px 1px);clip: rect(1px, 1px, 1px, 1px);height: 1px;margin: -1px;overflow: hidden;padding: 0;position: absolute;width: 1px;}#sk-container-id-4 div.sk-estimator {font-family: monospace;background-color: #f0f8ff;border: 1px dotted black;border-radius: 0.25em;box-sizing: border-box;margin-bottom: 0.5em;}#sk-container-id-4 div.sk-estimator:hover {background-color: #d4ebff;}#sk-container-id-4 div.sk-parallel-item::after {content: \"\";width: 100%;border-bottom: 1px solid gray;flex-grow: 1;}#sk-container-id-4 div.sk-label:hover label.sk-toggleable__label {background-color: #d4ebff;}#sk-container-id-4 div.sk-serial::before {content: \"\";position: absolute;border-left: 1px solid gray;box-sizing: border-box;top: 0;bottom: 0;left: 50%;z-index: 0;}#sk-container-id-4 div.sk-serial {display: flex;flex-direction: column;align-items: center;background-color: white;padding-right: 0.2em;padding-left: 0.2em;position: relative;}#sk-container-id-4 div.sk-item {position: relative;z-index: 1;}#sk-container-id-4 div.sk-parallel {display: flex;align-items: stretch;justify-content: center;background-color: white;position: relative;}#sk-container-id-4 div.sk-item::before, #sk-container-id-4 div.sk-parallel-item::before {content: \"\";position: absolute;border-left: 1px solid gray;box-sizing: border-box;top: 0;bottom: 0;left: 50%;z-index: -1;}#sk-container-id-4 div.sk-parallel-item {display: flex;flex-direction: column;z-index: 1;position: relative;background-color: white;}#sk-container-id-4 div.sk-parallel-item:first-child::after {align-self: flex-end;width: 50%;}#sk-container-id-4 div.sk-parallel-item:last-child::after {align-self: flex-start;width: 50%;}#sk-container-id-4 div.sk-parallel-item:only-child::after {width: 0;}#sk-container-id-4 div.sk-dashed-wrapped {border: 1px dashed gray;margin: 0 0.4em 0.5em 0.4em;box-sizing: border-box;padding-bottom: 0.4em;background-color: white;}#sk-container-id-4 div.sk-label label {font-family: monospace;font-weight: bold;display: inline-block;line-height: 1.2em;}#sk-container-id-4 div.sk-label-container {text-align: center;}#sk-container-id-4 div.sk-container {/* jupyter's `normalize.less` sets `[hidden] { display: none; }` but bootstrap.min.css set `[hidden] { display: none !important; }` so we also need the `!important` here to be able to override the default hidden behavior on the sphinx rendered scikit-learn.org. See: https://github.com/scikit-learn/scikit-learn/issues/21755 */display: inline-block !important;position: relative;}#sk-container-id-4 div.sk-text-repr-fallback {display: none;}</style><div id=\"sk-container-id-4\" class=\"sk-top-container\"><div class=\"sk-text-repr-fallback\"><pre>Pipeline(steps=[(&#x27;standardscaler&#x27;, StandardScaler()),\n",
       "                (&#x27;svc&#x27;, SVC(gamma=&#x27;auto&#x27;))])</pre><b>In a Jupyter environment, please rerun this cell to show the HTML representation or trust the notebook. <br />On GitHub, the HTML representation is unable to render, please try loading this page with nbviewer.org.</b></div><div class=\"sk-container\" hidden><div class=\"sk-item sk-dashed-wrapped\"><div class=\"sk-label-container\"><div class=\"sk-label sk-toggleable\"><input class=\"sk-toggleable__control sk-hidden--visually\" id=\"sk-estimator-id-6\" type=\"checkbox\" ><label for=\"sk-estimator-id-6\" class=\"sk-toggleable__label sk-toggleable__label-arrow\">Pipeline</label><div class=\"sk-toggleable__content\"><pre>Pipeline(steps=[(&#x27;standardscaler&#x27;, StandardScaler()),\n",
       "                (&#x27;svc&#x27;, SVC(gamma=&#x27;auto&#x27;))])</pre></div></div></div><div class=\"sk-serial\"><div class=\"sk-item\"><div class=\"sk-estimator sk-toggleable\"><input class=\"sk-toggleable__control sk-hidden--visually\" id=\"sk-estimator-id-7\" type=\"checkbox\" ><label for=\"sk-estimator-id-7\" class=\"sk-toggleable__label sk-toggleable__label-arrow\">StandardScaler</label><div class=\"sk-toggleable__content\"><pre>StandardScaler()</pre></div></div></div><div class=\"sk-item\"><div class=\"sk-estimator sk-toggleable\"><input class=\"sk-toggleable__control sk-hidden--visually\" id=\"sk-estimator-id-8\" type=\"checkbox\" ><label for=\"sk-estimator-id-8\" class=\"sk-toggleable__label sk-toggleable__label-arrow\">SVC</label><div class=\"sk-toggleable__content\"><pre>SVC(gamma=&#x27;auto&#x27;)</pre></div></div></div></div></div></div></div>"
      ],
      "text/plain": [
       "Pipeline(steps=[('standardscaler', StandardScaler()),\n",
       "                ('svc', SVC(gamma='auto'))])"
      ]
     },
     "execution_count": 73,
     "metadata": {},
     "output_type": "execute_result"
    }
   ],
   "source": [
    "clf.fit(X_testSV, y_testSV)"
   ]
  },
  {
   "cell_type": "code",
   "execution_count": 74,
   "id": "85954154",
   "metadata": {},
   "outputs": [
    {
     "name": "stdout",
     "output_type": "stream",
     "text": [
      "Test Score = 0.86\n"
     ]
    }
   ],
   "source": [
    "print(f'Test Score = {round(clf.score(X_testSV, y_testSV), 2)}')"
   ]
  },
  {
   "cell_type": "markdown",
   "id": "8e52aa6f",
   "metadata": {},
   "source": [
    "## Cross Validation SVM Test dataset"
   ]
  },
  {
   "cell_type": "code",
   "execution_count": 75,
   "id": "8fba389c",
   "metadata": {},
   "outputs": [],
   "source": [
    "cross_accuracy_logSV_test = cross_val_score(clf,  #estimator: the model that you want to evalueate\n",
    "                                     X_testSV, # the training data\n",
    "                                     y_testSV,  # the training data\n",
    "                                     cv = 5 , # number of cross validation datasets, k-folds\n",
    "                                     scoring = 'accuracy' # evaluation metric\n",
    "\n",
    ")\n",
    "\n",
    "CAL_SV_test=np.round_(cross_accuracy_logSV_test, 2)"
   ]
  },
  {
   "cell_type": "code",
   "execution_count": 76,
   "id": "7d700f64",
   "metadata": {},
   "outputs": [
    {
     "data": {
      "text/plain": [
       "array([0.81, 0.75, 0.89, 0.94, 0.74])"
      ]
     },
     "execution_count": 76,
     "metadata": {},
     "output_type": "execute_result"
    }
   ],
   "source": [
    "CAL_SV_test = np.round_(cross_accuracy_logSV_test, 2)\n",
    "CAL_SV_test"
   ]
  },
  {
   "cell_type": "code",
   "execution_count": 77,
   "id": "3fb04863",
   "metadata": {
    "scrolled": true
   },
   "outputs": [
    {
     "data": {
      "text/html": [
       "<div>\n",
       "<style scoped>\n",
       "    .dataframe tbody tr th:only-of-type {\n",
       "        vertical-align: middle;\n",
       "    }\n",
       "\n",
       "    .dataframe tbody tr th {\n",
       "        vertical-align: top;\n",
       "    }\n",
       "\n",
       "    .dataframe thead th {\n",
       "        text-align: right;\n",
       "    }\n",
       "</style>\n",
       "<table border=\"1\" class=\"dataframe\">\n",
       "  <thead>\n",
       "    <tr style=\"text-align: right;\">\n",
       "      <th></th>\n",
       "      <th>Model</th>\n",
       "      <th>Cross_Accuracy_Log</th>\n",
       "    </tr>\n",
       "  </thead>\n",
       "  <tbody>\n",
       "    <tr>\n",
       "      <th>0</th>\n",
       "      <td>Logistic Regression</td>\n",
       "      <td>[0.64, 0.83, 0.78, 0.69, 0.71]</td>\n",
       "    </tr>\n",
       "    <tr>\n",
       "      <th>1</th>\n",
       "      <td>Random Forest Classifier</td>\n",
       "      <td>[0.81, 0.75, 0.69, 0.78, 0.8]</td>\n",
       "    </tr>\n",
       "    <tr>\n",
       "      <th>2</th>\n",
       "      <td>Support Vector Machine</td>\n",
       "      <td>[0.81, 0.75, 0.89, 0.94, 0.74]</td>\n",
       "    </tr>\n",
       "  </tbody>\n",
       "</table>\n",
       "</div>"
      ],
      "text/plain": [
       "                      Model              Cross_Accuracy_Log\n",
       "0       Logistic Regression  [0.64, 0.83, 0.78, 0.69, 0.71]\n",
       "1  Random Forest Classifier   [0.81, 0.75, 0.69, 0.78, 0.8]\n",
       "2    Support Vector Machine  [0.81, 0.75, 0.89, 0.94, 0.74]"
      ]
     },
     "execution_count": 77,
     "metadata": {},
     "output_type": "execute_result"
    }
   ],
   "source": [
    "results_test = pd.DataFrame({\n",
    "    'Model': ['Logistic Regression', 'Random Forest Classifier', 'Support Vector Machine'],\n",
    "    \n",
    "     'Cross_Accuracy_Log': [CAL_LR_test, CAL_RFC_test, CAL_SV_test]\n",
    "})\n",
    "\n",
    "results_test"
   ]
  },
  {
   "cell_type": "markdown",
   "id": "5341b611",
   "metadata": {},
   "source": [
    "The above models show that the SVM has a high score, however when I did the Kaggle submission, I was only 78% accurate with my submission.  However when I resubmitted using the RFC model, I was 79% accurate with my submission.  This allowed for a jump in the rankings from top 20% to top 6%. "
   ]
  }
 ],
 "metadata": {
  "hide_input": false,
  "kernelspec": {
   "display_name": "Python 3 (ipykernel)",
   "language": "python",
   "name": "python3"
  },
  "language_info": {
   "codemirror_mode": {
    "name": "ipython",
    "version": 3
   },
   "file_extension": ".py",
   "mimetype": "text/x-python",
   "name": "python",
   "nbconvert_exporter": "python",
   "pygments_lexer": "ipython3",
   "version": "3.9.10"
  },
  "toc": {
   "base_numbering": 1,
   "nav_menu": {},
   "number_sections": true,
   "sideBar": true,
   "skip_h1_title": false,
   "title_cell": "Table of Contents",
   "title_sidebar": "Contents",
   "toc_cell": false,
   "toc_position": {},
   "toc_section_display": true,
   "toc_window_display": false
  }
 },
 "nbformat": 4,
 "nbformat_minor": 5
}
